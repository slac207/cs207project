{
 "cells": [
  {
   "cell_type": "markdown",
   "metadata": {},
   "source": [
    "# Package Installation\n",
    "At the console, within the `cs207project` directory, you can use\n",
    "```python \n",
    "pip install -e .\n",
    "```\n",
    "or equivalently\n",
    "```python\n",
    "python setup.py install\n",
    "```\n",
    "At this point, four subpackages will be available to you:\n",
    "1. `timeseries`\n",
    "2. `TimeseriesDB`\n",
    "3. `Similarity`\n",
    "4. `cs207rbtree`"
   ]
  },
  {
   "cell_type": "code",
   "execution_count": 1,
   "metadata": {
    "collapsed": false
   },
   "outputs": [],
   "source": [
    "import timeseries, TimeseriesDB, Similarity\n",
    "import cs207rbtree.RedBlackTree as Database"
   ]
  },
  {
   "cell_type": "code",
   "execution_count": 2,
   "metadata": {
    "collapsed": false
   },
   "outputs": [
    {
     "data": {
      "text/plain": [
       "['Color',\n",
       " 'DBDB',\n",
       " 'RedBlackNode',\n",
       " 'RedBlackNodeRef',\n",
       " 'RedBlackTree',\n",
       " 'Storage',\n",
       " 'ValueRef',\n",
       " '__builtins__',\n",
       " '__cached__',\n",
       " '__doc__',\n",
       " '__file__',\n",
       " '__loader__',\n",
       " '__name__',\n",
       " '__package__',\n",
       " '__spec__',\n",
       " 'connect',\n",
       " 'os',\n",
       " 'pickle',\n",
       " 'portalocker',\n",
       " 'struct']"
      ]
     },
     "execution_count": 2,
     "metadata": {},
     "output_type": "execute_result"
    }
   ],
   "source": [
    "dir(Database)"
   ]
  },
  {
   "cell_type": "markdown",
   "metadata": {},
   "source": [
    "# Using the Red-Black Tree"
   ]
  },
  {
   "cell_type": "markdown",
   "metadata": {
    "collapsed": true
   },
   "source": [
    "Below is a function that will allow us to visualize our tree (copied from CS207 Fall 2016 [lecture notes](https://github.com/iacs-cs207/cs207-2016/blob/master/lectures/BinarySearchTrees.ipynb)). "
   ]
  },
  {
   "cell_type": "markdown",
   "metadata": {},
   "source": [
    "Next, we create a tree, add a few nodes to it, and retrieve their contents."
   ]
  },
  {
   "cell_type": "code",
   "execution_count": 3,
   "metadata": {
    "collapsed": false
   },
   "outputs": [],
   "source": [
    "demoDB = Database.connect(\"/tmp/test1.dbdb\")"
   ]
  },
  {
   "cell_type": "code",
   "execution_count": 4,
   "metadata": {
    "collapsed": false
   },
   "outputs": [],
   "source": [
    "demoDB.set(\"rahul\",    81)\n",
    "demoDB.set(\"pavlos\",   20)\n",
    "demoDB.set(\"sarah\",    29)\n",
    "demoDB.set(\"courtney\", 11)\n",
    "demoDB.set(\"andrew\",   12)\n",
    "demoDB.set(\"laura\",    81)"
   ]
  },
  {
   "cell_type": "code",
   "execution_count": 5,
   "metadata": {
    "collapsed": false
   },
   "outputs": [
    {
     "data": {
      "text/plain": [
       "29"
      ]
     },
     "execution_count": 5,
     "metadata": {},
     "output_type": "execute_result"
    }
   ],
   "source": [
    "demoDB.get(\"sarah\")"
   ]
  },
  {
   "cell_type": "code",
   "execution_count": 6,
   "metadata": {
    "collapsed": false
   },
   "outputs": [
    {
     "data": {
      "text/plain": [
       "81"
      ]
     },
     "execution_count": 6,
     "metadata": {},
     "output_type": "execute_result"
    }
   ],
   "source": [
    "demoDB.get(\"laura\")"
   ]
  },
  {
   "cell_type": "markdown",
   "metadata": {},
   "source": [
    "### Multithreadedness"
   ]
  },
  {
   "cell_type": "code",
   "execution_count": 1,
   "metadata": {
    "collapsed": true
   },
   "outputs": [],
   "source": [
    "from cs207rbtree import RedBlackTree\n",
    "from threading import Thread\n",
    "from pytest import raises\n",
    "import portalocker\n",
    "import os "
   ]
  },
  {
   "cell_type": "code",
   "execution_count": 2,
   "metadata": {
    "collapsed": false
   },
   "outputs": [
    {
     "name": "stdout",
     "output_type": "stream",
     "text": [
      "FIRST FUN\n",
      "DONE\n",
      "SECOND FUNC\n",
      "FAILED\n",
      "SECOND FUNC\n",
      "FAILED\n",
      "SECOND FUNC\n",
      "FAILED\n",
      "SECOND FUNC\n",
      "FAILED\n",
      "SECOND FUNC\n",
      "FAILED\n",
      "1\n",
      "2\n",
      "3\n",
      "4\n",
      "5\n",
      "6\n"
     ]
    }
   ],
   "source": [
    "\n",
    "def thread_function(num):\n",
    "    print(\"FIRST FUN\")\n",
    "    db = RedBlackTree.connect(\"/tmp/test6.dbdb\")\n",
    "    db.set(\"kobe\", \"baby\"+str(num))\n",
    "    print(\"1\")\n",
    "    db.set(\"rahul\", \"veryyoung\"+str(num))\n",
    "    print(\"2\")\n",
    "    db.set(\"pavlos\", \"stillyoung\"+str(num))\n",
    "    print(\"3\")\n",
    "    db.set(\"andy\", \"old\"+str(num))\n",
    "    print(\"4\")\n",
    "    db.set(\"lisa\", \"ancient\"+str(num))   \n",
    "    print(\"5\")\n",
    "    db.commit()\n",
    "    print(\"6\")\n",
    "\n",
    "def thread_function2():\n",
    "    db = RedBlackTree.connect(\"/tmp/test6.dbdb\")\n",
    "    for i in [\"kobe\",\"rahul\",\"pavlos\",\"andy\",\"lisa\"]:\n",
    "        print(\"SECOND FUNC\")\n",
    "        with raises(KeyError):\n",
    "            print(\"FAILED\")\n",
    "            print(db.get(i))\n",
    "   \n",
    "os.remove('/tmp/test6.dbdb')\n",
    "t1 = Thread(target=thread_function, args=([1]))\n",
    "t2 = Thread(target=thread_function2)#, args=(2)) \n",
    "t1.start()\n",
    "t2.start()\n",
    "print(\"DONE\")\n",
    "\n",
    "\n",
    "        "
   ]
  },
  {
   "cell_type": "code",
   "execution_count": 7,
   "metadata": {
    "collapsed": false
   },
   "outputs": [
    {
     "name": "stdout",
     "output_type": "stream",
     "text": [
      "I AM DONE\n",
      "THREAD 1\n",
      "THREAD 2\n"
     ]
    }
   ],
   "source": [
    "import time\n",
    "\n",
    "def thread_function():\n",
    "    print(\"THREAD 1\")\n",
    "    db = RedBlackTree.connect(\"/tmp/test6.dbdb\")\n",
    "    db.set(\"Laura\", \"Ware\")\n",
    "    time.sleep(200)\n",
    "    print(\"THREAD ONE DONE SLEEPING\")\n",
    "    db.commit()\n",
    "    print(\"COMMITED RESULTS\")\n",
    "    \n",
    "def thread_function2():\n",
    "    print(\"THREAD 2\")\n",
    "    db2 = RedBlackTree.connect(\"/tmp/test6.dbdb\")\n",
    "    with raises(KeyError):\n",
    "        print(db2.get('Laura'))\n",
    "    print(\"THERE\")\n",
    "    time.sleep(10)\n",
    "    print(\"THREAD TWO DONE SLEEPING\")\n",
    "    print(db2.get('Laura'))\n",
    "    \n",
    "\n",
    "os.remove('/tmp/test6.dbdb')\n",
    "#t1 = Thread(target=thread_function)\n",
    "#t2 = Thread(target=thread_function2)\n",
    "#t1.start()\n",
    "#t2.start()\n",
    "\n",
    "import multiprocessing\n",
    "p = multiprocessing.Process(target=thread_function) \n",
    "p2 = multiprocessing.Process(target=thread_function2) \n",
    "p.start()\n",
    "p2.start()\n",
    "print(\"I AM DONE\")\n",
    "\n",
    "\n",
    "#db = RedBlackTree.connect(\"/tmp/test6.dbdb\")\n",
    "#db.set(\"Laura\", \"Ware\")\n",
    "#print(\"HERE\")\n",
    "#db2 = RedBlackTree.connect(\"/tmp/test6.dbdb\")\n",
    "#print(db2.get(\"Laura\"))\n",
    "#print(\"HERE\")"
   ]
  },
  {
   "cell_type": "code",
   "execution_count": 2,
   "metadata": {
    "collapsed": false
   },
   "outputs": [
    {
     "name": "stdout",
     "output_type": "stream",
     "text": [
      "HERE\n"
     ]
    }
   ],
   "source": [
    "os.remove('/tmp/test6.dbdb')\n",
    "db = RedBlackTree.connect(\"/tmp/test6.dbdb\")\n",
    "db.set(\"Laura\", \"Ware\")\n",
    "print(\"HERE\")\n"
   ]
  },
  {
   "cell_type": "code",
   "execution_count": null,
   "metadata": {
    "collapsed": false
   },
   "outputs": [
    {
     "name": "stdout",
     "output_type": "stream",
     "text": [
      "ensuring superblock\n",
      "LOCKED?: False\n",
      "LOCKING\n"
     ]
    }
   ],
   "source": [
    "\n",
    "db2 = RedBlackTree.connect(\"/tmp/test6.dbdb\")\n",
    "#print(\"CONNECTED\")\n",
    "with raises(KeyError):\n",
    "    print(db2.get(\"Laura\"))\n",
    "db.commit()\n",
    "print(db2.get(\"Laura\"))\n",
    "print(\"HERE\")\n",
    "\n",
    "db.close()\n",
    "db2.close()"
   ]
  },
  {
   "cell_type": "code",
   "execution_count": 4,
   "metadata": {
    "collapsed": false
   },
   "outputs": [
    {
     "ename": "AlreadyLocked",
     "evalue": "[Errno 35] Resource temporarily unavailable",
     "output_type": "error",
     "traceback": [
      "\u001b[0;31m---------------------------------------------------------------------------\u001b[0m",
      "\u001b[0;31mBlockingIOError\u001b[0m                           Traceback (most recent call last)",
      "\u001b[0;32m/Users/courtneycochrane/anaconda/lib/python3.5/site-packages/portalocker/portalocker.py\u001b[0m in \u001b[0;36mlock\u001b[0;34m(file_, flags)\u001b[0m\n\u001b[1;32m     66\u001b[0m         \u001b[0;32mtry\u001b[0m\u001b[0;34m:\u001b[0m\u001b[0;34m\u001b[0m\u001b[0m\n\u001b[0;32m---> 67\u001b[0;31m             \u001b[0mfcntl\u001b[0m\u001b[0;34m.\u001b[0m\u001b[0mflock\u001b[0m\u001b[0;34m(\u001b[0m\u001b[0mfile_\u001b[0m\u001b[0;34m.\u001b[0m\u001b[0mfileno\u001b[0m\u001b[0;34m(\u001b[0m\u001b[0;34m)\u001b[0m\u001b[0;34m,\u001b[0m \u001b[0mflags\u001b[0m\u001b[0;34m)\u001b[0m\u001b[0;34m\u001b[0m\u001b[0m\n\u001b[0m\u001b[1;32m     68\u001b[0m         \u001b[0;32mexcept\u001b[0m \u001b[0mIOError\u001b[0m \u001b[0;32mas\u001b[0m \u001b[0mexc_value\u001b[0m\u001b[0;34m:\u001b[0m\u001b[0;34m\u001b[0m\u001b[0m\n",
      "\u001b[0;31mBlockingIOError\u001b[0m: [Errno 35] Resource temporarily unavailable",
      "\nDuring handling of the above exception, another exception occurred:\n",
      "\u001b[0;31mLockException\u001b[0m                             Traceback (most recent call last)",
      "\u001b[0;32m/Users/courtneycochrane/anaconda/lib/python3.5/site-packages/portalocker/utils.py\u001b[0m in \u001b[0;36macquire\u001b[0;34m(self, timeout, check_interval, fail_when_locked)\u001b[0m\n\u001b[1;32m    125\u001b[0m             \u001b[0;31m# Try to lock\u001b[0m\u001b[0;34m\u001b[0m\u001b[0;34m\u001b[0m\u001b[0m\n\u001b[0;32m--> 126\u001b[0;31m             \u001b[0mfh\u001b[0m \u001b[0;34m=\u001b[0m \u001b[0mself\u001b[0m\u001b[0;34m.\u001b[0m\u001b[0m_get_lock\u001b[0m\u001b[0;34m(\u001b[0m\u001b[0mfh\u001b[0m\u001b[0;34m)\u001b[0m\u001b[0;34m\u001b[0m\u001b[0m\n\u001b[0m\u001b[1;32m    127\u001b[0m         \u001b[0;32mexcept\u001b[0m \u001b[0mexceptions\u001b[0m\u001b[0;34m.\u001b[0m\u001b[0mLockException\u001b[0m \u001b[0;32mas\u001b[0m \u001b[0mexception\u001b[0m\u001b[0;34m:\u001b[0m\u001b[0;34m\u001b[0m\u001b[0m\n",
      "\u001b[0;32m/Users/courtneycochrane/anaconda/lib/python3.5/site-packages/portalocker/utils.py\u001b[0m in \u001b[0;36m_get_lock\u001b[0;34m(self, fh)\u001b[0m\n\u001b[1;32m    174\u001b[0m         returns LockException if it fails'''\n\u001b[0;32m--> 175\u001b[0;31m         \u001b[0mportalocker\u001b[0m\u001b[0;34m.\u001b[0m\u001b[0mlock\u001b[0m\u001b[0;34m(\u001b[0m\u001b[0mfh\u001b[0m\u001b[0;34m,\u001b[0m \u001b[0mself\u001b[0m\u001b[0;34m.\u001b[0m\u001b[0mflags\u001b[0m\u001b[0;34m)\u001b[0m\u001b[0;34m\u001b[0m\u001b[0m\n\u001b[0m\u001b[1;32m    176\u001b[0m         \u001b[0;32mreturn\u001b[0m \u001b[0mfh\u001b[0m\u001b[0;34m\u001b[0m\u001b[0m\n",
      "\u001b[0;32m/Users/courtneycochrane/anaconda/lib/python3.5/site-packages/portalocker/portalocker.py\u001b[0m in \u001b[0;36mlock\u001b[0;34m(file_, flags)\u001b[0m\n\u001b[1;32m     70\u001b[0m             \u001b[0;31m# every IO error\u001b[0m\u001b[0;34m\u001b[0m\u001b[0;34m\u001b[0m\u001b[0m\n\u001b[0;32m---> 71\u001b[0;31m             \u001b[0;32mraise\u001b[0m \u001b[0mexceptions\u001b[0m\u001b[0;34m.\u001b[0m\u001b[0mLockException\u001b[0m\u001b[0;34m(\u001b[0m\u001b[0mexc_value\u001b[0m\u001b[0;34m)\u001b[0m\u001b[0;34m\u001b[0m\u001b[0m\n\u001b[0m\u001b[1;32m     72\u001b[0m \u001b[0;34m\u001b[0m\u001b[0m\n",
      "\u001b[0;31mLockException\u001b[0m: [Errno 35] Resource temporarily unavailable",
      "\nDuring handling of the above exception, another exception occurred:\n",
      "\u001b[0;31mAlreadyLocked\u001b[0m                             Traceback (most recent call last)",
      "\u001b[0;32m<ipython-input-4-e1cab6859ce6>\u001b[0m in \u001b[0;36m<module>\u001b[0;34m()\u001b[0m\n\u001b[1;32m      4\u001b[0m \u001b[0;31m#with assertRaises(Exception): #LockException\u001b[0m\u001b[0;34m\u001b[0m\u001b[0;34m\u001b[0m\u001b[0m\n\u001b[1;32m      5\u001b[0m     \u001b[0;31m#print(\"HERE\")\u001b[0m\u001b[0;34m\u001b[0m\u001b[0;34m\u001b[0m\u001b[0m\n\u001b[0;32m----> 6\u001b[0;31m \u001b[0malock\u001b[0m\u001b[0;34m.\u001b[0m\u001b[0macquire\u001b[0m\u001b[0;34m(\u001b[0m\u001b[0;34m)\u001b[0m\u001b[0;34m\u001b[0m\u001b[0m\n\u001b[0m\u001b[1;32m      7\u001b[0m \u001b[0mprint\u001b[0m\u001b[0;34m(\u001b[0m\u001b[0;34m\"DONE\"\u001b[0m\u001b[0;34m)\u001b[0m\u001b[0;34m\u001b[0m\u001b[0m\n",
      "\u001b[0;32m/Users/courtneycochrane/anaconda/lib/python3.5/site-packages/portalocker/utils.py\u001b[0m in \u001b[0;36macquire\u001b[0;34m(self, timeout, check_interval, fail_when_locked)\u001b[0m\n\u001b[1;32m    138\u001b[0m                     \u001b[0;31m# If fail_when_locked is true, then stop trying\u001b[0m\u001b[0;34m\u001b[0m\u001b[0;34m\u001b[0m\u001b[0m\n\u001b[1;32m    139\u001b[0m                     \u001b[0;32mif\u001b[0m \u001b[0mfail_when_locked\u001b[0m\u001b[0;34m:\u001b[0m\u001b[0;34m\u001b[0m\u001b[0m\n\u001b[0;32m--> 140\u001b[0;31m                         \u001b[0;32mraise\u001b[0m \u001b[0mexceptions\u001b[0m\u001b[0;34m.\u001b[0m\u001b[0mAlreadyLocked\u001b[0m\u001b[0;34m(\u001b[0m\u001b[0mexception\u001b[0m\u001b[0;34m)\u001b[0m\u001b[0;34m\u001b[0m\u001b[0m\n\u001b[0m\u001b[1;32m    141\u001b[0m \u001b[0;34m\u001b[0m\u001b[0m\n\u001b[1;32m    142\u001b[0m                     \u001b[0;32melse\u001b[0m\u001b[0;34m:\u001b[0m  \u001b[0;31m# pragma: no cover\u001b[0m\u001b[0;34m\u001b[0m\u001b[0m\n",
      "\u001b[0;31mAlreadyLocked\u001b[0m: [Errno 35] Resource temporarily unavailable"
     ]
    }
   ],
   "source": [
    "from portalocker.utils import Lock\n",
    "from portalocker import *\n",
    "alock = Lock(\"/tmp/test6.dbdb\", timeout=5)\n",
    "#with assertRaises(Exception): #LockException\n",
    "    #print(\"HERE\")\n",
    "alock.acquire()\n",
    "print(\"DONE\")\n"
   ]
  },
  {
   "cell_type": "code",
   "execution_count": 4,
   "metadata": {
    "collapsed": true
   },
   "outputs": [],
   "source": [
    "from TimeseriesDB.MessageFormatting import *\n",
    "import importlib\n",
    "import unittest\n",
    "from pytest import raises\n",
    "import numpy as np\n",
    "from TimeseriesDB.tsdb_error import *\n",
    "from TimeseriesDB import DatabaseServer\n",
    "from TimeseriesDB.MessageFormatting import * #Deserializer\n",
    "from Similarity.find_most_similar import find_most_similiar, sanity_check\n",
    "from TimeseriesDB.simsearch_init import initialize_simsearch_parameters\n",
    "from socketserver import BaseRequestHandler, ThreadingTCPServer, TCPServer\n",
    "from timeseries.ArrayTimeSeries import ArrayTimeSeries as ts\n",
    "import threading\n",
    "from socket import socket, AF_INET, SOCK_STREAM\n",
    "import sys\n",
    "from scipy.stats import norm\n",
    "import multiprocessing\n"
   ]
  },
  {
   "cell_type": "code",
   "execution_count": 5,
   "metadata": {
    "collapsed": true
   },
   "outputs": [],
   "source": [
    "def query_1():\n",
    "    #function to compute simsearch\n",
    "    print(\"QUERY1\")\n",
    "    s = socket(AF_INET, SOCK_STREAM)\n",
    "    s.connect(('localhost', 20000))\n",
    "    d2 = {'op':'simsearch_id','id':12,'n_closest':2,'courtesy':'please'}\n",
    "    s2 = serialize(json.dumps(d2))        \n",
    "    s.send(s2)\n",
    "    msg = s.recv(8192)\n",
    "    ds = Deserializer()\n",
    "    ds.append(msg)\n",
    "    ds.ready()\n",
    "    response = ds.deserialize()\n",
    "    print(response)\n",
    "    s.close()\n",
    "    \n",
    "def query_2():\n",
    "    #function to return timeseries from id\n",
    "    print(\"QUERY2\")\n",
    "    s = socket(AF_INET, SOCK_STREAM)\n",
    "    s.connect(('localhost', 20000))\n",
    "    d2 = {'op':'TSfromID','id':12,'courtesy':'please'}\n",
    "    s2 = serialize(json.dumps(d2))        \n",
    "    s.send(s2)\n",
    "    msg = s.recv(8192)\n",
    "    ds = Deserializer()\n",
    "    ds.append(msg)\n",
    "    ds.ready()\n",
    "    response = ds.deserialize()\n",
    "    print(response)\n",
    "    s.close()"
   ]
  },
  {
   "cell_type": "code",
   "execution_count": 6,
   "metadata": {
    "collapsed": false
   },
   "outputs": [
    {
     "ename": "OSError",
     "evalue": "[Errno 48] Address already in use",
     "output_type": "error",
     "traceback": [
      "\u001b[0;31m---------------------------------------------------------------------------\u001b[0m",
      "\u001b[0;31mOSError\u001b[0m                                   Traceback (most recent call last)",
      "\u001b[0;32m<ipython-input-6-e59d6e3d42e1>\u001b[0m in \u001b[0;36m<module>\u001b[0;34m()\u001b[0m\n\u001b[1;32m      1\u001b[0m \u001b[0mTCPServer\u001b[0m\u001b[0;34m.\u001b[0m\u001b[0mallow_reuse_address\u001b[0m \u001b[0;34m=\u001b[0m \u001b[0;32mTrue\u001b[0m\u001b[0;34m\u001b[0m\u001b[0m\n\u001b[0;32m----> 2\u001b[0;31m \u001b[0mserv\u001b[0m \u001b[0;34m=\u001b[0m \u001b[0mTCPServer\u001b[0m\u001b[0;34m(\u001b[0m\u001b[0;34m(\u001b[0m\u001b[0;34m''\u001b[0m\u001b[0;34m,\u001b[0m \u001b[0;36m20000\u001b[0m\u001b[0;34m)\u001b[0m\u001b[0;34m,\u001b[0m \u001b[0mDatabaseServer\u001b[0m\u001b[0;34m)\u001b[0m\u001b[0;34m\u001b[0m\u001b[0m\n\u001b[0m\u001b[1;32m      3\u001b[0m \u001b[0mserv\u001b[0m\u001b[0;34m.\u001b[0m\u001b[0mdata\u001b[0m \u001b[0;34m=\u001b[0m \u001b[0minitialize_simsearch_parameters\u001b[0m\u001b[0;34m(\u001b[0m\u001b[0;34m)\u001b[0m\u001b[0;34m\u001b[0m\u001b[0m\n\u001b[1;32m      4\u001b[0m \u001b[0mserv\u001b[0m\u001b[0;34m.\u001b[0m\u001b[0mdeserializer\u001b[0m \u001b[0;34m=\u001b[0m \u001b[0mDeserializer\u001b[0m\u001b[0;34m(\u001b[0m\u001b[0;34m)\u001b[0m\u001b[0;34m\u001b[0m\u001b[0m\n\u001b[1;32m      5\u001b[0m \u001b[0mserv_thread\u001b[0m \u001b[0;34m=\u001b[0m \u001b[0mthreading\u001b[0m\u001b[0;34m.\u001b[0m\u001b[0mThread\u001b[0m\u001b[0;34m(\u001b[0m\u001b[0mtarget\u001b[0m\u001b[0;34m=\u001b[0m\u001b[0mserv\u001b[0m\u001b[0;34m.\u001b[0m\u001b[0mserve_forever\u001b[0m\u001b[0;34m)\u001b[0m\u001b[0;34m\u001b[0m\u001b[0m\n",
      "\u001b[0;32m/Users/courtneycochrane/anaconda/envs/py35/lib/python3.5/socketserver.py\u001b[0m in \u001b[0;36m__init__\u001b[0;34m(self, server_address, RequestHandlerClass, bind_and_activate)\u001b[0m\n\u001b[1;32m    438\u001b[0m         \u001b[0;32mif\u001b[0m \u001b[0mbind_and_activate\u001b[0m\u001b[0;34m:\u001b[0m\u001b[0;34m\u001b[0m\u001b[0m\n\u001b[1;32m    439\u001b[0m             \u001b[0;32mtry\u001b[0m\u001b[0;34m:\u001b[0m\u001b[0;34m\u001b[0m\u001b[0m\n\u001b[0;32m--> 440\u001b[0;31m                 \u001b[0mself\u001b[0m\u001b[0;34m.\u001b[0m\u001b[0mserver_bind\u001b[0m\u001b[0;34m(\u001b[0m\u001b[0;34m)\u001b[0m\u001b[0;34m\u001b[0m\u001b[0m\n\u001b[0m\u001b[1;32m    441\u001b[0m                 \u001b[0mself\u001b[0m\u001b[0;34m.\u001b[0m\u001b[0mserver_activate\u001b[0m\u001b[0;34m(\u001b[0m\u001b[0;34m)\u001b[0m\u001b[0;34m\u001b[0m\u001b[0m\n\u001b[1;32m    442\u001b[0m             \u001b[0;32mexcept\u001b[0m\u001b[0;34m:\u001b[0m\u001b[0;34m\u001b[0m\u001b[0m\n",
      "\u001b[0;32m/Users/courtneycochrane/anaconda/envs/py35/lib/python3.5/socketserver.py\u001b[0m in \u001b[0;36mserver_bind\u001b[0;34m(self)\u001b[0m\n\u001b[1;32m    452\u001b[0m         \u001b[0;32mif\u001b[0m \u001b[0mself\u001b[0m\u001b[0;34m.\u001b[0m\u001b[0mallow_reuse_address\u001b[0m\u001b[0;34m:\u001b[0m\u001b[0;34m\u001b[0m\u001b[0m\n\u001b[1;32m    453\u001b[0m             \u001b[0mself\u001b[0m\u001b[0;34m.\u001b[0m\u001b[0msocket\u001b[0m\u001b[0;34m.\u001b[0m\u001b[0msetsockopt\u001b[0m\u001b[0;34m(\u001b[0m\u001b[0msocket\u001b[0m\u001b[0;34m.\u001b[0m\u001b[0mSOL_SOCKET\u001b[0m\u001b[0;34m,\u001b[0m \u001b[0msocket\u001b[0m\u001b[0;34m.\u001b[0m\u001b[0mSO_REUSEADDR\u001b[0m\u001b[0;34m,\u001b[0m \u001b[0;36m1\u001b[0m\u001b[0;34m)\u001b[0m\u001b[0;34m\u001b[0m\u001b[0m\n\u001b[0;32m--> 454\u001b[0;31m         \u001b[0mself\u001b[0m\u001b[0;34m.\u001b[0m\u001b[0msocket\u001b[0m\u001b[0;34m.\u001b[0m\u001b[0mbind\u001b[0m\u001b[0;34m(\u001b[0m\u001b[0mself\u001b[0m\u001b[0;34m.\u001b[0m\u001b[0mserver_address\u001b[0m\u001b[0;34m)\u001b[0m\u001b[0;34m\u001b[0m\u001b[0m\n\u001b[0m\u001b[1;32m    455\u001b[0m         \u001b[0mself\u001b[0m\u001b[0;34m.\u001b[0m\u001b[0mserver_address\u001b[0m \u001b[0;34m=\u001b[0m \u001b[0mself\u001b[0m\u001b[0;34m.\u001b[0m\u001b[0msocket\u001b[0m\u001b[0;34m.\u001b[0m\u001b[0mgetsockname\u001b[0m\u001b[0;34m(\u001b[0m\u001b[0;34m)\u001b[0m\u001b[0;34m\u001b[0m\u001b[0m\n\u001b[1;32m    456\u001b[0m \u001b[0;34m\u001b[0m\u001b[0m\n",
      "\u001b[0;31mOSError\u001b[0m: [Errno 48] Address already in use"
     ]
    }
   ],
   "source": [
    "TCPServer.allow_reuse_address = True\n",
    "serv = TCPServer(('', 20000), DatabaseServer)\n",
    "serv.data = initialize_simsearch_parameters()\n",
    "serv.deserializer = Deserializer()        \n",
    "serv_thread = threading.Thread(target=serv.serve_forever)\n",
    "serv_thread.setDaemon(True)\n",
    "serv_thread.start()     \n",
    "\n",
    "\n",
    "p = multiprocessing.Process(target=query_1) \n",
    "p2 = multiprocessing.Process(target=query_2) \n",
    "p.start()\n",
    "p2.start()    \n",
    "\n",
    "\n",
    "serv.socket.close()\n",
    "serv.server_close()\n",
    "print(\"DONE\")"
   ]
  },
  {
   "cell_type": "code",
   "execution_count": null,
   "metadata": {
    "collapsed": true
   },
   "outputs": [],
   "source": []
  }
 ],
 "metadata": {
  "anaconda-cloud": {},
  "kernelspec": {
   "display_name": "Python [py35]",
   "language": "python",
   "name": "Python [py35]"
  },
  "language_info": {
   "codemirror_mode": {
    "name": "ipython",
    "version": 3
   },
   "file_extension": ".py",
   "mimetype": "text/x-python",
   "name": "python",
   "nbconvert_exporter": "python",
   "pygments_lexer": "ipython3",
   "version": "3.5.2"
  }
 },
 "nbformat": 4,
 "nbformat_minor": 0
}
