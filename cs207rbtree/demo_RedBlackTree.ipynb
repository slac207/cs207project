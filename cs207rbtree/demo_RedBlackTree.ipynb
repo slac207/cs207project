{
 "cells": [
  {
   "cell_type": "markdown",
   "metadata": {},
   "source": [
    "# Package Installation\n",
    "At the console, within the `cs207project` directory, you can use\n",
    "```python \n",
    "pip install -e .\n",
    "```\n",
    "or equivalently\n",
    "```python\n",
    "python setup.py install\n",
    "```\n",
    "At this point, four subpackages will be available to you:\n",
    "1. `timeseries`\n",
    "2. `TimeseriesDB`\n",
    "3. `Similarity`\n",
    "4. `cs207rbtree`"
   ]
  },
  {
   "cell_type": "code",
   "execution_count": 1,
   "metadata": {
    "collapsed": false
   },
   "outputs": [
    {
     "name": "stdout",
     "output_type": "stream",
     "text": [
      "['/Users/sarahanoke/GitHub/cs207project/TimeseriesDB', '/Users/sarahanoke/GitHub/cs207project', '/Users/sarahanoke/GitHub/cs207project/timeseries/Similarity/VantagePointDatabases', '/Users/sarahanoke/GitHub', '/Users/sarahanoke/GitHub/cs207project/TimeseriesDB', '/Users/sarahanoke/GitHub/cs207project', '/Users/sarahanoke/GitHub/cs207project/timeseries', '/Users/sarahanoke/GitHub/cs207project', '', '/Users/sarahanoke/GitHub/cs207project', '/Users/sarahanoke/anaconda/lib/python35.zip', '/Users/sarahanoke/anaconda/lib/python3.5', '/Users/sarahanoke/anaconda/lib/python3.5/plat-darwin', '/Users/sarahanoke/anaconda/lib/python3.5/lib-dynload', '/Users/sarahanoke/anaconda/lib/python3.5/site-packages/Sphinx-1.4.1-py3.5.egg', '/Users/sarahanoke/anaconda/lib/python3.5/site-packages/setuptools-23.0.0-py3.5.egg', '/Users/sarahanoke/anaconda/lib/python3.5/site-packages', '/Users/sarahanoke/anaconda/lib/python3.5/site-packages/aeosa', '/Users/sarahanoke/anaconda/lib/python3.5/site-packages/IPython/extensions', '/Users/sarahanoke/.ipython']\n"
     ]
    }
   ],
   "source": [
    "import timeseries, TimeseriesDB, Similarity\n",
    "import cs207rbtree.RedBlackTree as Database"
   ]
  },
  {
   "cell_type": "code",
   "execution_count": 2,
   "metadata": {
    "collapsed": false
   },
   "outputs": [
    {
     "data": {
      "text/plain": [
       "['Color',\n",
       " 'DBDB',\n",
       " 'RedBlackNode',\n",
       " 'RedBlackNodeRef',\n",
       " 'RedBlackTree',\n",
       " 'Storage',\n",
       " 'ValueRef',\n",
       " '__builtins__',\n",
       " '__cached__',\n",
       " '__doc__',\n",
       " '__file__',\n",
       " '__loader__',\n",
       " '__name__',\n",
       " '__package__',\n",
       " '__spec__',\n",
       " 'connect',\n",
       " 'os',\n",
       " 'pickle',\n",
       " 'portalocker',\n",
       " 'struct']"
      ]
     },
     "execution_count": 2,
     "metadata": {},
     "output_type": "execute_result"
    }
   ],
   "source": [
    "dir(Database)"
   ]
  },
  {
   "cell_type": "markdown",
   "metadata": {},
   "source": [
    "# Using the Red-Black Tree"
   ]
  },
  {
   "cell_type": "markdown",
   "metadata": {
    "collapsed": true
   },
   "source": [
    "Below is a function that will allow us to visualize our tree (copied from CS207 Fall 2016 [lecture notes](https://github.com/iacs-cs207/cs207-2016/blob/master/lectures/BinarySearchTrees.ipynb)). "
   ]
  },
  {
   "cell_type": "markdown",
   "metadata": {},
   "source": [
    "Next, we create a tree, add a few nodes to it, and retrieve their contents."
   ]
  },
  {
   "cell_type": "code",
   "execution_count": 3,
   "metadata": {
    "collapsed": false
   },
   "outputs": [],
   "source": [
    "demoDB = Database.connect(\"/tmp/test1.dbdb\")"
   ]
  },
  {
   "cell_type": "code",
   "execution_count": 4,
   "metadata": {
    "collapsed": false
   },
   "outputs": [],
   "source": [
    "demoDB.set(\"rahul\",    81)\n",
    "demoDB.set(\"pavlos\",   20)\n",
    "demoDB.set(\"sarah\",    29)\n",
    "demoDB.set(\"courtney\", 11)\n",
    "demoDB.set(\"andrew\",   12)\n",
    "demoDB.set(\"laura\",    81)"
   ]
  },
  {
   "cell_type": "code",
   "execution_count": 5,
   "metadata": {
    "collapsed": false
   },
   "outputs": [
    {
     "data": {
      "text/plain": [
       "29"
      ]
     },
     "execution_count": 5,
     "metadata": {},
     "output_type": "execute_result"
    }
   ],
   "source": [
    "demoDB.get(\"sarah\")"
   ]
  },
  {
   "cell_type": "code",
   "execution_count": 6,
   "metadata": {
    "collapsed": false
   },
   "outputs": [
    {
     "data": {
      "text/plain": [
       "81"
      ]
     },
     "execution_count": 6,
     "metadata": {},
     "output_type": "execute_result"
    }
   ],
   "source": [
    "demoDB.get(\"laura\")"
   ]
  },
  {
   "cell_type": "code",
   "execution_count": null,
   "metadata": {
    "collapsed": true
   },
   "outputs": [],
   "source": []
  }
 ],
 "metadata": {
  "anaconda-cloud": {},
  "kernelspec": {
   "display_name": "Python [Root]",
   "language": "python",
   "name": "Python [Root]"
  },
  "language_info": {
   "codemirror_mode": {
    "name": "ipython",
    "version": 3
   },
   "file_extension": ".py",
   "mimetype": "text/x-python",
   "name": "python",
   "nbconvert_exporter": "python",
   "pygments_lexer": "ipython3",
   "version": "3.5.2"
  }
 },
 "nbformat": 4,
 "nbformat_minor": 0
}
