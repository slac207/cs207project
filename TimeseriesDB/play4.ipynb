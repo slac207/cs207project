{
 "cells": [
  {
   "cell_type": "code",
   "execution_count": 5,
   "metadata": {
    "collapsed": false
   },
   "outputs": [],
   "source": [
    "import server\n",
    "import importlib\n",
    "importlib.reload(server)\n",
    "from server import *"
   ]
  },
  {
   "cell_type": "code",
   "execution_count": 2,
   "metadata": {
    "collapsed": false
   },
   "outputs": [
    {
     "name": "stdout",
     "output_type": "stream",
     "text": [
      "{\"0\": \"moon\", \"1\": \"sun\"}\n"
     ]
    }
   ],
   "source": [
    "d = {0:'moon',1:'sun'}\n",
    "json_d = json.dumps(d)\n",
    "print(json_d)\n",
    "s = serialize(json_d)"
   ]
  },
  {
   "cell_type": "code",
   "execution_count": 30,
   "metadata": {
    "collapsed": false
   },
   "outputs": [
    {
     "name": "stdout",
     "output_type": "stream",
     "text": [
      "False\n",
      "True\n",
      "True\n",
      "{'0': 'moon', '1': 'sun'}\n",
      "True\n",
      "b'\\x1d\\x00\\x00\\x00{\"0\": \"moon\", \"1\": \"sun\"}'\n",
      "{'0': 'moon', '1': 'sun'}\n",
      "False\n"
     ]
    }
   ],
   "source": [
    "ds = Deserializer()\n",
    "print(ds.ready())\n",
    "ds.append(s)\n",
    "print(ds.ready())\n",
    "ds.append(s)\n",
    "print(ds.ready())\n",
    "print(ds.deserialize())\n",
    "print(ds.ready())\n",
    "print(ds.buf)\n",
    "print(ds.deserialize())\n",
    "print(ds.ready())\n"
   ]
  },
  {
   "cell_type": "code",
   "execution_count": null,
   "metadata": {
    "collapsed": false
   },
   "outputs": [],
   "source": []
  },
  {
   "cell_type": "code",
   "execution_count": 31,
   "metadata": {
    "collapsed": false
   },
   "outputs": [
    {
     "data": {
      "text/plain": [
       "({'id': 12, 'op': 'TSfromID'}, b' \\x00\\x00\\x00{\"op\": \"TSfromID\", \"id\": 12}')"
      ]
     },
     "execution_count": 31,
     "metadata": {},
     "output_type": "execute_result"
    }
   ],
   "source": [
    "#d2 = {'op':'simsearch_ts','ts':[list(range(10)),list(range(10))]}\n",
    "#d2 = {'op':'simsearch_id','id':12}\n",
    "d2 = {'op':'TSfromID','id':12}\n",
    "#d2 = {'op':'other','id':12}\n",
    "s2 = serialize(json.dumps(d2))\n",
    "d2,s2\n",
    "#TSDBOp('with_ts')"
   ]
  },
  {
   "cell_type": "code",
   "execution_count": 32,
   "metadata": {
    "collapsed": false
   },
   "outputs": [
    {
     "name": "stdout",
     "output_type": "stream",
     "text": [
      "{'op': 'TSfromID', 'id': 12}\n"
     ]
    }
   ],
   "source": [
    "deserializer = Deserializer()\n",
    "deserializer.append(s2)\n",
    "deserializer.ready()\n",
    "msg = deserializer.deserialize()\n",
    "print(msg)\n",
    "status = TSDBStatus.OK  # until proven otherwise.\n",
    "response = TSDBOp_Return(status, None)  # until proven otherwise."
   ]
  },
  {
   "cell_type": "code",
   "execution_count": 33,
   "metadata": {
    "collapsed": false
   },
   "outputs": [
    {
     "data": {
      "text/plain": [
       "(<TSDBStatus.OK: 0>,\n",
       " {'op': None, 'payload': None, 'status': <TSDBStatus.OK: 0>})"
      ]
     },
     "execution_count": 33,
     "metadata": {},
     "output_type": "execute_result"
    }
   ],
   "source": [
    "status,response"
   ]
  },
  {
   "cell_type": "code",
   "execution_count": 34,
   "metadata": {
    "collapsed": false
   },
   "outputs": [],
   "source": [
    "try:\n",
    "    tsdbop = TSDBOp.from_json(msg)\n",
    "except TypeError as e:\n",
    "    status = TSDBStatus.INVALID_OPERATION\n",
    "    response = TSDBOp_Return(TSDBStatus.INVALID_OPERATION, None)\n",
    "    print('error here')\n",
    "else:\n",
    "    tsdbop"
   ]
  },
  {
   "cell_type": "code",
   "execution_count": 35,
   "metadata": {
    "collapsed": false
   },
   "outputs": [
    {
     "data": {
      "text/plain": [
       "({'op': None, 'payload': None, 'status': <TSDBStatus.OK: 0>},\n",
       " <TSDBStatus.OK: 0>)"
      ]
     },
     "execution_count": 35,
     "metadata": {},
     "output_type": "execute_result"
    }
   ],
   "source": [
    "response,status"
   ]
  },
  {
   "cell_type": "code",
   "execution_count": 36,
   "metadata": {
    "collapsed": false
   },
   "outputs": [
    {
     "data": {
      "text/plain": [
       "(False, False, True)"
      ]
     },
     "execution_count": 36,
     "metadata": {},
     "output_type": "execute_result"
    }
   ],
   "source": [
    "isinstance(tsdbop, TSDBOp_SimSearch_TS),isinstance(tsdbop, TSDBOp_SimSearch_ID),isinstance(tsdbop, TSDBOp_TSfromID)\n"
   ]
  },
  {
   "cell_type": "code",
   "execution_count": 37,
   "metadata": {
    "collapsed": false
   },
   "outputs": [
    {
     "data": {
      "text/plain": [
       "server.TSDBOp_TSfromID"
      ]
     },
     "execution_count": 37,
     "metadata": {},
     "output_type": "execute_result"
    }
   ],
   "source": [
    "type(tsdbop)"
   ]
  },
  {
   "cell_type": "code",
   "execution_count": 38,
   "metadata": {
    "collapsed": false
   },
   "outputs": [
    {
     "data": {
      "text/plain": [
       "{'id': 12, 'op': 'TSfromID'}"
      ]
     },
     "execution_count": 38,
     "metadata": {},
     "output_type": "execute_result"
    }
   ],
   "source": [
    "tsdbop"
   ]
  },
  {
   "cell_type": "code",
   "execution_count": 39,
   "metadata": {
    "collapsed": false
   },
   "outputs": [
    {
     "data": {
      "text/plain": [
       "12"
      ]
     },
     "execution_count": 39,
     "metadata": {},
     "output_type": "execute_result"
    }
   ],
   "source": [
    "tsdbop['id']"
   ]
  },
  {
   "cell_type": "code",
   "execution_count": null,
   "metadata": {
    "collapsed": true
   },
   "outputs": [],
   "source": [
    "        self.deserializer.append(data)\n",
    "        if self.deserializer.ready():\n",
    "            msg = self.deserializer.deserialize()\n",
    "            status = TSDBStatus.OK  # until proven otherwise.\n",
    "            response = TSDBOp_Return(status, None)  # until proven otherwise.\n",
    "            try:\n",
    "                    tsdbop = TSDBOp.from_json(msg)\n",
    "            except TypeError as e:\n",
    "                response = TSDBOp_Return(TSDBStatus.INVALID_OPERATION, None)\n",
    "            if status is TSDBStatus.OK:\n",
    "                if isinstance(tsdbop, TSDBOp_withTS):\n",
    "                    response = self._with_ts(tsdbop)\n",
    "                elif isinstance(tsdbop, TSDBOp_withID):\n",
    "                    response = self._with_id(tsdbop)\n",
    "                else:\n",
    "                    response = TSDBOp_Return(TSDBStatus.UNKNOWN_ERROR, tsdbop['op'])\n",
    "\n",
    "            serialize(response.to_json())\n"
   ]
  },
  {
   "cell_type": "code",
   "execution_count": null,
   "metadata": {
    "collapsed": true
   },
   "outputs": [],
   "source": []
  },
  {
   "cell_type": "code",
   "execution_count": null,
   "metadata": {
    "collapsed": true
   },
   "outputs": [],
   "source": []
  },
  {
   "cell_type": "code",
   "execution_count": null,
   "metadata": {
    "collapsed": true
   },
   "outputs": [],
   "source": []
  },
  {
   "cell_type": "code",
   "execution_count": 1,
   "metadata": {
    "collapsed": false
   },
   "outputs": [
    {
     "name": "stdout",
     "output_type": "stream",
     "text": [
      "[ 0.  0.  0.  0.  0.  0.  0.  0.  0.  0.]\n",
      "recieved 400000000\n",
      "[ 0.  1.  2.  3.  4.  5.  6.  7.  8.  9.]\n",
      "<socket.socket fd=928, family=AddressFamily.AF_INET, type=SocketKind.SOCK_STREAM, proto=0, laddr=('127.0.0.1', 62969), raddr=('127.0.0.1', 25000)>\n"
     ]
    }
   ],
   "source": [
    "import numpy as np\n",
    "from socket import *\n",
    "\n",
    "\n",
    "def recv_into(arr, source):\n",
    "    view = memoryview(arr).cast('B') \n",
    "    while len(view):\n",
    "        nrecv = source.recv_into(view)\n",
    "        print(\"recieved\", nrecv)\n",
    "        view = view[nrecv:]\n",
    "            \n",
    "c = socket(AF_INET, SOCK_STREAM)\n",
    "#c.bind(('',25001))\n",
    "c.connect(('localhost', 25000))\n",
    "a = np.zeros(shape=50000000, dtype=float)\n",
    "print(a[0:10])\n",
    "recv_into(a, c)\n",
    "print(a[0:10])\n",
    "print(c)"
   ]
  },
  {
   "cell_type": "code",
   "execution_count": 3,
   "metadata": {
    "collapsed": false
   },
   "outputs": [
    {
     "name": "stdout",
     "output_type": "stream",
     "text": [
      "<socket.socket fd=924, family=AddressFamily.AF_INET, type=SocketKind.SOCK_STREAM, proto=0, laddr=('127.0.0.1', 25000), raddr=('127.0.0.1', 62977)>\n",
      "('127.0.0.1', 62977)\n",
      "<socket.socket fd=960, family=AddressFamily.AF_INET, type=SocketKind.SOCK_STREAM, proto=0, laddr=('0.0.0.0', 25000)>\n"
     ]
    }
   ],
   "source": [
    "from socket import *\n",
    "import numpy as np\n",
    "\n",
    "def send_from(arr, dest):\n",
    "    view = memoryview(arr).cast('B') \n",
    "    while len(view):\n",
    "        nsent = dest.send(view)\n",
    "        view = view[nsent:]\n",
    "            \n",
    "\n",
    "s = socket(AF_INET, SOCK_STREAM)\n",
    "s.bind(('', 25000))\n",
    "s.listen(1)\n",
    "c,addr = s.accept()\n",
    "print(c)\n",
    "print(addr)\n",
    "print(s)\n",
    "a = np.arange(0.0, 50000000.0)\n",
    "send_from(a, c)"
   ]
  },
  {
   "cell_type": "code",
   "execution_count": 5,
   "metadata": {
    "collapsed": false
   },
   "outputs": [
    {
     "name": "stdout",
     "output_type": "stream",
     "text": [
      "Overwriting echo_client_custom.py\n"
     ]
    }
   ],
   "source": [
    "%%file echo_client_custom.py\n",
    "import sys\n",
    "from socket import socket, AF_INET, SOCK_STREAM\n",
    "s = socket(AF_INET, SOCK_STREAM)\n",
    "s.connect(('localhost', 20000))\n",
    "s.send(sys.argv[1].encode())\n",
    "print(s.recv(8192))"
   ]
  },
  {
   "cell_type": "code",
   "execution_count": 13,
   "metadata": {
    "collapsed": false
   },
   "outputs": [
    {
     "ename": "ImportError",
     "evalue": "cannot import name 'RedBlackTree'",
     "output_type": "error",
     "traceback": [
      "\u001b[1;31m\u001b[0m",
      "\u001b[1;31mImportError\u001b[0mTraceback (most recent call last)",
      "\u001b[1;32m<ipython-input-13-7df8b0fd6987>\u001b[0m in \u001b[0;36m<module>\u001b[1;34m()\u001b[0m\n\u001b[1;32m----> 1\u001b[1;33m \u001b[1;32mfrom\u001b[0m \u001b[0mSimilarity\u001b[0m\u001b[1;33m.\u001b[0m\u001b[0mfind_most_similar\u001b[0m \u001b[1;32mimport\u001b[0m \u001b[0mfind_most_similiar\u001b[0m\u001b[1;33m\u001b[0m\u001b[0m\n\u001b[0m",
      "\u001b[1;32mD:\\Dropbox (HNL)\\coursework\\CS207\\project\\cs207project/timeseries\\Similarity\\find_most_similar.py\u001b[0m in \u001b[0;36m<module>\u001b[1;34m()\u001b[0m\n\u001b[0;32m      8\u001b[0m \u001b[1;32mimport\u001b[0m \u001b[0mrandom\u001b[0m\u001b[1;33m\u001b[0m\u001b[0m\n\u001b[0;32m      9\u001b[0m \u001b[1;33m\u001b[0m\u001b[0m\n\u001b[1;32m---> 10\u001b[1;33m \u001b[1;32mfrom\u001b[0m \u001b[0mcs207rbtree\u001b[0m \u001b[1;32mimport\u001b[0m \u001b[0mRedBlackTree\u001b[0m \u001b[1;32mas\u001b[0m \u001b[0mDatabase\u001b[0m\u001b[1;33m\u001b[0m\u001b[0m\n\u001b[0m\u001b[0;32m     11\u001b[0m \u001b[1;32mfrom\u001b[0m \u001b[0mSMTimeSeries\u001b[0m \u001b[1;32mimport\u001b[0m \u001b[0mSMTimeSeries\u001b[0m \u001b[1;32mas\u001b[0m \u001b[0mts\u001b[0m\u001b[1;33m\u001b[0m\u001b[0m\n\u001b[0;32m     12\u001b[0m \u001b[1;32mfrom\u001b[0m \u001b[0mpick_vantage_points\u001b[0m \u001b[1;32mimport\u001b[0m \u001b[0mpick_vantage_points\u001b[0m\u001b[1;33m\u001b[0m\u001b[0m\n",
      "\u001b[1;31mImportError\u001b[0m: cannot import name 'RedBlackTree'"
     ]
    }
   ],
   "source": [
    "from Similarity.find_most_similar import find_most_similiar"
   ]
  },
  {
   "cell_type": "code",
   "execution_count": 12,
   "metadata": {
    "collapsed": false
   },
   "outputs": [
    {
     "data": {
      "text/plain": [
       "['D:\\\\Dropbox (HNL)\\\\coursework\\\\CS207\\\\project\\\\cs207project/timeseries',\n",
       " 'D:\\\\Dropbox (HNL)\\\\coursework\\\\CS207\\\\project\\\\cs207project',\n",
       " 'D:\\\\Dropbox (HNL)\\\\coursework\\\\CS207\\\\project\\\\cs207project\\\\timeseries',\n",
       " 'D:\\\\Dropbox (HNL)\\\\coursework\\\\CS207\\\\project\\\\cs207project/timeseries',\n",
       " 'D:\\\\Dropbox (HNL)\\\\coursework\\\\CS207\\\\project\\\\cs207project',\n",
       " 'D:\\\\Dropbox (HNL)\\\\coursework\\\\CS207\\\\project\\\\cs207project/timeseries',\n",
       " 'D:\\\\Dropbox (HNL)\\\\coursework\\\\CS207\\\\project\\\\cs207project',\n",
       " '',\n",
       " 'C:\\\\Users\\\\Andrew\\\\Anaconda2\\\\envs\\\\py35\\\\python35.zip',\n",
       " 'C:\\\\Users\\\\Andrew\\\\Anaconda2\\\\envs\\\\py35\\\\DLLs',\n",
       " 'C:\\\\Users\\\\Andrew\\\\Anaconda2\\\\envs\\\\py35\\\\lib',\n",
       " 'C:\\\\Users\\\\Andrew\\\\Anaconda2\\\\envs\\\\py35',\n",
       " 'C:\\\\Users\\\\Andrew\\\\Anaconda2\\\\envs\\\\py35\\\\lib\\\\site-packages',\n",
       " 'C:\\\\Users\\\\Andrew\\\\Anaconda2\\\\envs\\\\py35\\\\lib\\\\site-packages\\\\Sphinx-1.4.1-py3.5.egg',\n",
       " 'C:\\\\Users\\\\Andrew\\\\Anaconda2\\\\envs\\\\py35\\\\lib\\\\site-packages\\\\win32',\n",
       " 'C:\\\\Users\\\\Andrew\\\\Anaconda2\\\\envs\\\\py35\\\\lib\\\\site-packages\\\\win32\\\\lib',\n",
       " 'C:\\\\Users\\\\Andrew\\\\Anaconda2\\\\envs\\\\py35\\\\lib\\\\site-packages\\\\Pythonwin',\n",
       " 'C:\\\\Users\\\\Andrew\\\\Anaconda2\\\\envs\\\\py35\\\\lib\\\\site-packages\\\\setuptools-23.0.0-py3.5.egg',\n",
       " 'C:\\\\Users\\\\Andrew\\\\Anaconda2\\\\envs\\\\py35\\\\lib\\\\site-packages\\\\IPython\\\\extensions',\n",
       " 'C:\\\\Users\\\\Andrew\\\\.ipython']"
      ]
     },
     "execution_count": 12,
     "metadata": {},
     "output_type": "execute_result"
    }
   ],
   "source": [
    "sys.path"
   ]
  },
  {
   "cell_type": "markdown",
   "metadata": {},
   "source": [
    "# This is the client!!"
   ]
  },
  {
   "cell_type": "code",
   "execution_count": 2,
   "metadata": {
    "collapsed": false
   },
   "outputs": [],
   "source": [
    "import server\n",
    "import importlib\n",
    "importlib.reload(server)\n",
    "from server import *"
   ]
  },
  {
   "cell_type": "code",
   "execution_count": 5,
   "metadata": {
    "collapsed": false
   },
   "outputs": [],
   "source": [
    "from ArrayTimeSeries import ArrayTimeSeries as ts\n",
    "import numpy as np\n",
    "from scipy.stats import norm\n",
    "\n",
    "t = np.arange(0.0, 1.0, 0.01)\n",
    "v = norm.pdf(t, 100, 100) + 1000*np.random.randn(100)\n",
    "ts_test = ts(t, v)\n",
    "\n",
    "#d2 = {'op':'TSfromID','id':12}\n",
    "d2 = {'op':'simsearch_id','id':12}\n",
    "d2 = {'op':'simsearch_ts','ts':[list(ts_test.times()), list(ts_test.values())]}\n",
    "s2 = serialize(json.dumps(d2))"
   ]
  },
  {
   "cell_type": "code",
   "execution_count": 4,
   "metadata": {
    "collapsed": false
   },
   "outputs": [
    {
     "name": "stdout",
     "output_type": "stream",
     "text": [
      "b'9\\x00\\x00\\x00{\"ts\": [601, 737, 17, 933, 92], \"op\": \"simsearch_ts\"}'\n"
     ]
    }
   ],
   "source": [
    "import sys\n",
    "from socket import socket, AF_INET, SOCK_STREAM\n",
    "s = socket(AF_INET, SOCK_STREAM)\n",
    "s.connect(('localhost', 20000))\n",
    "s.send(s2)\n",
    "msg = s.recv(8192)\n",
    "print(msg)"
   ]
  },
  {
   "cell_type": "markdown",
   "metadata": {
    "collapsed": true
   },
   "source": [
    "### Above is the output I'm getting- still need to discuss interpolation and also adding in the parameter for number of timeseries to find"
   ]
  },
  {
   "cell_type": "code",
   "execution_count": null,
   "metadata": {
    "collapsed": true
   },
   "outputs": [],
   "source": []
  },
  {
   "cell_type": "code",
   "execution_count": null,
   "metadata": {
    "collapsed": true
   },
   "outputs": [],
   "source": []
  },
  {
   "cell_type": "code",
   "execution_count": 72,
   "metadata": {
    "collapsed": false
   },
   "outputs": [
    {
     "name": "stdout",
     "output_type": "stream",
     "text": [
      "Invalid JSON object received:\n",
      "success!\n"
     ]
    }
   ],
   "source": [
    "ds = Deserializer()\n",
    "ds.append(msg)\n",
    "ds.deserialize()"
   ]
  },
  {
   "cell_type": "code",
   "execution_count": 69,
   "metadata": {
    "collapsed": false
   },
   "outputs": [
    {
     "data": {
      "text/plain": [
       "b'\\x0c\\x00\\x00\\x00success!'"
      ]
     },
     "execution_count": 69,
     "metadata": {},
     "output_type": "execute_result"
    }
   ],
   "source": [
    "msg"
   ]
  },
  {
   "cell_type": "code",
   "execution_count": 65,
   "metadata": {
    "collapsed": false
   },
   "outputs": [
    {
     "data": {
      "text/plain": [
       "'\"success!\"'"
      ]
     },
     "execution_count": 65,
     "metadata": {},
     "output_type": "execute_result"
    }
   ],
   "source": [
    "json.dumps('success!')"
   ]
  },
  {
   "cell_type": "code",
   "execution_count": 73,
   "metadata": {
    "collapsed": false
   },
   "outputs": [],
   "source": [
    "#json.loads(TSDBOp.to_json('success!'))"
   ]
  },
  {
   "cell_type": "code",
   "execution_count": 4,
   "metadata": {
    "collapsed": false
   },
   "outputs": [],
   "source": [
    "from Similarity.find_most_similar import find_most_similiar"
   ]
  },
  {
   "cell_type": "code",
   "execution_count": 5,
   "metadata": {
    "collapsed": false
   },
   "outputs": [
    {
     "data": {
      "text/plain": [
       "['D:\\\\Dropbox (HNL)\\\\coursework\\\\CS207\\\\project\\\\cs207project\\\\timeseries',\n",
       " 'D:\\\\Dropbox (HNL)\\\\coursework\\\\CS207\\\\project\\\\cs207project/cs207rbtree',\n",
       " 'D:\\\\Dropbox (HNL)\\\\coursework\\\\CS207\\\\project\\\\cs207project\\\\timeseries\\\\Similarity',\n",
       " 'D:\\\\Dropbox (HNL)\\\\coursework\\\\CS207\\\\project\\\\cs207project\\\\timeseries',\n",
       " 'D:\\\\Dropbox (HNL)\\\\coursework\\\\CS207\\\\project\\\\cs207project/cs207rbtree',\n",
       " 'D:\\\\Dropbox (HNL)\\\\coursework\\\\CS207\\\\project\\\\cs207project\\\\timeseries\\\\Similarity',\n",
       " 'D:\\\\Dropbox (HNL)\\\\coursework\\\\CS207\\\\project\\\\cs207project\\\\timeseries',\n",
       " 'D:\\\\Dropbox (HNL)\\\\coursework\\\\CS207\\\\project\\\\cs207project/timeseries',\n",
       " 'D:\\\\Dropbox (HNL)\\\\coursework\\\\CS207\\\\project\\\\cs207project',\n",
       " 'D:\\\\Dropbox (HNL)\\\\coursework\\\\CS207\\\\project\\\\cs207project/timeseries',\n",
       " 'D:\\\\Dropbox (HNL)\\\\coursework\\\\CS207\\\\project\\\\cs207project',\n",
       " '',\n",
       " 'C:\\\\Users\\\\Andrew\\\\Anaconda2\\\\envs\\\\py35\\\\python35.zip',\n",
       " 'C:\\\\Users\\\\Andrew\\\\Anaconda2\\\\envs\\\\py35\\\\DLLs',\n",
       " 'C:\\\\Users\\\\Andrew\\\\Anaconda2\\\\envs\\\\py35\\\\lib',\n",
       " 'C:\\\\Users\\\\Andrew\\\\Anaconda2\\\\envs\\\\py35',\n",
       " 'C:\\\\Users\\\\Andrew\\\\Anaconda2\\\\envs\\\\py35\\\\lib\\\\site-packages',\n",
       " 'C:\\\\Users\\\\Andrew\\\\Anaconda2\\\\envs\\\\py35\\\\lib\\\\site-packages\\\\Sphinx-1.4.1-py3.5.egg',\n",
       " 'C:\\\\Users\\\\Andrew\\\\Anaconda2\\\\envs\\\\py35\\\\lib\\\\site-packages\\\\win32',\n",
       " 'C:\\\\Users\\\\Andrew\\\\Anaconda2\\\\envs\\\\py35\\\\lib\\\\site-packages\\\\win32\\\\lib',\n",
       " 'C:\\\\Users\\\\Andrew\\\\Anaconda2\\\\envs\\\\py35\\\\lib\\\\site-packages\\\\Pythonwin',\n",
       " 'C:\\\\Users\\\\Andrew\\\\Anaconda2\\\\envs\\\\py35\\\\lib\\\\site-packages\\\\setuptools-23.0.0-py3.5.egg',\n",
       " 'C:\\\\Users\\\\Andrew\\\\Anaconda2\\\\envs\\\\py35\\\\lib\\\\site-packages\\\\IPython\\\\extensions',\n",
       " 'C:\\\\Users\\\\Andrew\\\\.ipython']"
      ]
     },
     "execution_count": 5,
     "metadata": {},
     "output_type": "execute_result"
    }
   ],
   "source": [
    "sys.path"
   ]
  },
  {
   "cell_type": "code",
   "execution_count": null,
   "metadata": {
    "collapsed": true
   },
   "outputs": [],
   "source": []
  }
 ],
 "metadata": {
  "anaconda-cloud": {},
  "kernelspec": {
   "display_name": "Python [py35]",
   "language": "python",
   "name": "Python [py35]"
  },
  "language_info": {
   "codemirror_mode": {
    "name": "ipython",
    "version": 3
   },
   "file_extension": ".py",
   "mimetype": "text/x-python",
   "name": "python",
   "nbconvert_exporter": "python",
   "pygments_lexer": "ipython3",
   "version": "3.5.2"
  }
 },
 "nbformat": 4,
 "nbformat_minor": 0
}
