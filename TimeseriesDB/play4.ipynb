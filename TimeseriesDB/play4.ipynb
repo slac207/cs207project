{
 "cells": [
  {
   "cell_type": "code",
   "execution_count": 210,
   "metadata": {
    "collapsed": false
   },
   "outputs": [],
   "source": [
    "import server\n",
    "import importlib\n",
    "importlib.reload(server)\n",
    "from server import *"
   ]
  },
  {
   "cell_type": "code",
   "execution_count": 95,
   "metadata": {
    "collapsed": false
   },
   "outputs": [],
   "source": [
    "a = TSDBOp_SimSearch_TS('TSfromID')\n",
    "a['ts'] = [np.array((1,2,3)),np.array((2,3,4))]"
   ]
  },
  {
   "cell_type": "code",
   "execution_count": 94,
   "metadata": {
    "collapsed": false
   },
   "outputs": [
    {
     "data": {
      "text/plain": [
       "{'op': 'simsearch_ts', 'ts': '[[1, 2, 3], [2, 3, 4]]'}"
      ]
     },
     "execution_count": 94,
     "metadata": {},
     "output_type": "execute_result"
    }
   ],
   "source": [
    "a.to_json()"
   ]
  },
  {
   "cell_type": "code",
   "execution_count": null,
   "metadata": {
    "collapsed": true
   },
   "outputs": [],
   "source": []
  },
  {
   "cell_type": "code",
   "execution_count": 2,
   "metadata": {
    "collapsed": false
   },
   "outputs": [
    {
     "name": "stdout",
     "output_type": "stream",
     "text": [
      "{\"0\": \"moon\", \"1\": \"sun\"}\n"
     ]
    }
   ],
   "source": [
    "d = {0:'moon',1:'sun'}\n",
    "json_d = json.dumps(d)\n",
    "print(json_d)\n",
    "s = serialize(json_d)"
   ]
  },
  {
   "cell_type": "code",
   "execution_count": 3,
   "metadata": {
    "collapsed": false
   },
   "outputs": [
    {
     "name": "stdout",
     "output_type": "stream",
     "text": [
      "False\n",
      "True\n",
      "True\n",
      "{'0': 'moon', '1': 'sun'}\n",
      "True\n",
      "b'\\x1d\\x00\\x00\\x00{\"0\": \"moon\", \"1\": \"sun\"}'\n",
      "{'0': 'moon', '1': 'sun'}\n",
      "False\n"
     ]
    }
   ],
   "source": [
    "ds = Deserializer()\n",
    "print(ds.ready())\n",
    "ds.append(s)\n",
    "print(ds.ready())\n",
    "ds.append(s)\n",
    "print(ds.ready())\n",
    "print(ds.deserialize())\n",
    "print(ds.ready())\n",
    "print(ds.buf)\n",
    "print(ds.deserialize())\n",
    "print(ds.ready())\n"
   ]
  },
  {
   "cell_type": "code",
   "execution_count": null,
   "metadata": {
    "collapsed": false
   },
   "outputs": [],
   "source": []
  },
  {
   "cell_type": "code",
   "execution_count": 4,
   "metadata": {
    "collapsed": false
   },
   "outputs": [
    {
     "data": {
      "text/plain": [
       "({'id': 12, 'op': 'TSfromID'}, b' \\x00\\x00\\x00{\"op\": \"TSfromID\", \"id\": 12}')"
      ]
     },
     "execution_count": 4,
     "metadata": {},
     "output_type": "execute_result"
    }
   ],
   "source": [
    "#d2 = {'op':'simsearch_ts','ts':[list(range(10)),list(range(10))]}\n",
    "#d2 = {'op':'simsearch_id','id':12}\n",
    "d2 = {'op':'TSfromID','id':12}\n",
    "#d2 = {'op':'other','id':12}\n",
    "s2 = serialize(json.dumps(d2))\n",
    "d2,s2\n",
    "#TSDBOp('with_ts')"
   ]
  },
  {
   "cell_type": "code",
   "execution_count": 5,
   "metadata": {
    "collapsed": false
   },
   "outputs": [
    {
     "name": "stdout",
     "output_type": "stream",
     "text": [
      "{'op': 'TSfromID', 'id': 12}\n"
     ]
    }
   ],
   "source": [
    "deserializer = Deserializer()\n",
    "deserializer.append(s2)\n",
    "deserializer.ready()\n",
    "msg = deserializer.deserialize()\n",
    "print(msg)\n",
    "status = TSDBStatus.OK  # until proven otherwise.\n",
    "response = TSDBOp_Return(status, None)  # until proven otherwise."
   ]
  },
  {
   "cell_type": "code",
   "execution_count": 6,
   "metadata": {
    "collapsed": false
   },
   "outputs": [
    {
     "data": {
      "text/plain": [
       "(<TSDBStatus.OK: 0>,\n",
       " {'op': None, 'payload': None, 'status': <TSDBStatus.OK: 0>})"
      ]
     },
     "execution_count": 6,
     "metadata": {},
     "output_type": "execute_result"
    }
   ],
   "source": [
    "status,response"
   ]
  },
  {
   "cell_type": "code",
   "execution_count": 7,
   "metadata": {
    "collapsed": false
   },
   "outputs": [],
   "source": [
    "try:\n",
    "    tsdbop = TSDBOp.from_json(msg)\n",
    "except TypeError as e:\n",
    "    status = TSDBStatus.INVALID_OPERATION\n",
    "    response = TSDBOp_Return(TSDBStatus.INVALID_OPERATION, None)\n",
    "    print('error here')\n",
    "else:\n",
    "    tsdbop"
   ]
  },
  {
   "cell_type": "code",
   "execution_count": 8,
   "metadata": {
    "collapsed": false
   },
   "outputs": [
    {
     "data": {
      "text/plain": [
       "({'op': None, 'payload': None, 'status': <TSDBStatus.OK: 0>},\n",
       " <TSDBStatus.OK: 0>)"
      ]
     },
     "execution_count": 8,
     "metadata": {},
     "output_type": "execute_result"
    }
   ],
   "source": [
    "response,status"
   ]
  },
  {
   "cell_type": "code",
   "execution_count": 9,
   "metadata": {
    "collapsed": false
   },
   "outputs": [
    {
     "data": {
      "text/plain": [
       "(False, False, True)"
      ]
     },
     "execution_count": 9,
     "metadata": {},
     "output_type": "execute_result"
    }
   ],
   "source": [
    "isinstance(tsdbop, TSDBOp_SimSearch_TS),isinstance(tsdbop, TSDBOp_SimSearch_ID),isinstance(tsdbop, TSDBOp_TSfromID)\n"
   ]
  },
  {
   "cell_type": "code",
   "execution_count": 10,
   "metadata": {
    "collapsed": false
   },
   "outputs": [
    {
     "data": {
      "text/plain": [
       "server.TSDBOp_TSfromID"
      ]
     },
     "execution_count": 10,
     "metadata": {},
     "output_type": "execute_result"
    }
   ],
   "source": [
    "type(tsdbop)"
   ]
  },
  {
   "cell_type": "code",
   "execution_count": 11,
   "metadata": {
    "collapsed": false
   },
   "outputs": [
    {
     "data": {
      "text/plain": [
       "{'id': 12, 'op': 'TSfromID'}"
      ]
     },
     "execution_count": 11,
     "metadata": {},
     "output_type": "execute_result"
    }
   ],
   "source": [
    "tsdbop"
   ]
  },
  {
   "cell_type": "code",
   "execution_count": 12,
   "metadata": {
    "collapsed": false
   },
   "outputs": [
    {
     "data": {
      "text/plain": [
       "12"
      ]
     },
     "execution_count": 12,
     "metadata": {},
     "output_type": "execute_result"
    }
   ],
   "source": [
    "tsdbop['id']"
   ]
  },
  {
   "cell_type": "code",
   "execution_count": 13,
   "metadata": {
    "collapsed": false
   },
   "outputs": [
    {
     "ename": "NameError",
     "evalue": "name 'self' is not defined",
     "output_type": "error",
     "traceback": [
      "\u001b[1;31m\u001b[0m",
      "\u001b[1;31mNameError\u001b[0mTraceback (most recent call last)",
      "\u001b[1;32m<ipython-input-13-da97ea3839d2>\u001b[0m in \u001b[0;36m<module>\u001b[1;34m()\u001b[0m\n\u001b[1;32m----> 1\u001b[1;33m \u001b[0mself\u001b[0m\u001b[1;33m.\u001b[0m\u001b[0mdeserializer\u001b[0m\u001b[1;33m.\u001b[0m\u001b[0mappend\u001b[0m\u001b[1;33m(\u001b[0m\u001b[0mdata\u001b[0m\u001b[1;33m)\u001b[0m\u001b[1;33m\u001b[0m\u001b[0m\n\u001b[0m\u001b[0;32m      2\u001b[0m \u001b[1;32mif\u001b[0m \u001b[0mself\u001b[0m\u001b[1;33m.\u001b[0m\u001b[0mdeserializer\u001b[0m\u001b[1;33m.\u001b[0m\u001b[0mready\u001b[0m\u001b[1;33m(\u001b[0m\u001b[1;33m)\u001b[0m\u001b[1;33m:\u001b[0m\u001b[1;33m\u001b[0m\u001b[0m\n\u001b[0;32m      3\u001b[0m     \u001b[0mmsg\u001b[0m \u001b[1;33m=\u001b[0m \u001b[0mself\u001b[0m\u001b[1;33m.\u001b[0m\u001b[0mdeserializer\u001b[0m\u001b[1;33m.\u001b[0m\u001b[0mdeserialize\u001b[0m\u001b[1;33m(\u001b[0m\u001b[1;33m)\u001b[0m\u001b[1;33m\u001b[0m\u001b[0m\n\u001b[0;32m      4\u001b[0m     \u001b[0mstatus\u001b[0m \u001b[1;33m=\u001b[0m \u001b[0mTSDBStatus\u001b[0m\u001b[1;33m.\u001b[0m\u001b[0mOK\u001b[0m  \u001b[1;31m# until proven otherwise.\u001b[0m\u001b[1;33m\u001b[0m\u001b[0m\n\u001b[0;32m      5\u001b[0m     \u001b[0mresponse\u001b[0m \u001b[1;33m=\u001b[0m \u001b[0mTSDBOp_Return\u001b[0m\u001b[1;33m(\u001b[0m\u001b[0mstatus\u001b[0m\u001b[1;33m,\u001b[0m \u001b[1;32mNone\u001b[0m\u001b[1;33m)\u001b[0m  \u001b[1;31m# until proven otherwise.\u001b[0m\u001b[1;33m\u001b[0m\u001b[0m\n",
      "\u001b[1;31mNameError\u001b[0m: name 'self' is not defined"
     ]
    }
   ],
   "source": [
    "        self.deserializer.append(data)\n",
    "        if self.deserializer.ready():\n",
    "            msg = self.deserializer.deserialize()\n",
    "            status = TSDBStatus.OK  # until proven otherwise.\n",
    "            response = TSDBOp_Return(status, None)  # until proven otherwise.\n",
    "            try:\n",
    "                    tsdbop = TSDBOp.from_json(msg)\n",
    "            except TypeError as e:\n",
    "                response = TSDBOp_Return(TSDBStatus.INVALID_OPERATION, None)\n",
    "            if status is TSDBStatus.OK:\n",
    "                if isinstance(tsdbop, TSDBOp_withTS):\n",
    "                    response = self._with_ts(tsdbop)\n",
    "                elif isinstance(tsdbop, TSDBOp_withID):\n",
    "                    response = self._with_id(tsdbop)\n",
    "                else:\n",
    "                    response = TSDBOp_Return(TSDBStatus.UNKNOWN_ERROR, tsdbop['op'])\n",
    "\n",
    "            serialize(response.to_json())\n"
   ]
  },
  {
   "cell_type": "code",
   "execution_count": null,
   "metadata": {
    "collapsed": true
   },
   "outputs": [],
   "source": []
  },
  {
   "cell_type": "code",
   "execution_count": null,
   "metadata": {
    "collapsed": true
   },
   "outputs": [],
   "source": []
  },
  {
   "cell_type": "code",
   "execution_count": null,
   "metadata": {
    "collapsed": true
   },
   "outputs": [],
   "source": []
  },
  {
   "cell_type": "code",
   "execution_count": 14,
   "metadata": {
    "collapsed": false
   },
   "outputs": [
    {
     "ename": "ConnectionRefusedError",
     "evalue": "[WinError 10061] No connection could be made because the target machine actively refused it",
     "output_type": "error",
     "traceback": [
      "\u001b[1;31m\u001b[0m",
      "\u001b[1;31mConnectionRefusedError\u001b[0mTraceback (most recent call last)",
      "\u001b[1;32m<ipython-input-14-2794851af8b8>\u001b[0m in \u001b[0;36m<module>\u001b[1;34m()\u001b[0m\n\u001b[0;32m     12\u001b[0m \u001b[0mc\u001b[0m \u001b[1;33m=\u001b[0m \u001b[0msocket\u001b[0m\u001b[1;33m(\u001b[0m\u001b[0mAF_INET\u001b[0m\u001b[1;33m,\u001b[0m \u001b[0mSOCK_STREAM\u001b[0m\u001b[1;33m)\u001b[0m\u001b[1;33m\u001b[0m\u001b[0m\n\u001b[0;32m     13\u001b[0m \u001b[1;31m#c.bind(('',25001))\u001b[0m\u001b[1;33m\u001b[0m\u001b[1;33m\u001b[0m\u001b[0m\n\u001b[1;32m---> 14\u001b[1;33m \u001b[0mc\u001b[0m\u001b[1;33m.\u001b[0m\u001b[0mconnect\u001b[0m\u001b[1;33m(\u001b[0m\u001b[1;33m(\u001b[0m\u001b[1;34m'localhost'\u001b[0m\u001b[1;33m,\u001b[0m \u001b[1;36m25000\u001b[0m\u001b[1;33m)\u001b[0m\u001b[1;33m)\u001b[0m\u001b[1;33m\u001b[0m\u001b[0m\n\u001b[0m\u001b[0;32m     15\u001b[0m \u001b[0ma\u001b[0m \u001b[1;33m=\u001b[0m \u001b[0mnp\u001b[0m\u001b[1;33m.\u001b[0m\u001b[0mzeros\u001b[0m\u001b[1;33m(\u001b[0m\u001b[0mshape\u001b[0m\u001b[1;33m=\u001b[0m\u001b[1;36m50000000\u001b[0m\u001b[1;33m,\u001b[0m \u001b[0mdtype\u001b[0m\u001b[1;33m=\u001b[0m\u001b[0mfloat\u001b[0m\u001b[1;33m)\u001b[0m\u001b[1;33m\u001b[0m\u001b[0m\n\u001b[0;32m     16\u001b[0m \u001b[0mprint\u001b[0m\u001b[1;33m(\u001b[0m\u001b[0ma\u001b[0m\u001b[1;33m[\u001b[0m\u001b[1;36m0\u001b[0m\u001b[1;33m:\u001b[0m\u001b[1;36m10\u001b[0m\u001b[1;33m]\u001b[0m\u001b[1;33m)\u001b[0m\u001b[1;33m\u001b[0m\u001b[0m\n",
      "\u001b[1;31mConnectionRefusedError\u001b[0m: [WinError 10061] No connection could be made because the target machine actively refused it"
     ]
    }
   ],
   "source": [
    "import numpy as np\n",
    "from socket import *\n",
    "\n",
    "\n",
    "def recv_into(arr, source):\n",
    "    view = memoryview(arr).cast('B') \n",
    "    while len(view):\n",
    "        nrecv = source.recv_into(view)\n",
    "        print(\"recieved\", nrecv)\n",
    "        view = view[nrecv:]\n",
    "            \n",
    "c = socket(AF_INET, SOCK_STREAM)\n",
    "#c.bind(('',25001))\n",
    "c.connect(('localhost', 25000))\n",
    "a = np.zeros(shape=50000000, dtype=float)\n",
    "print(a[0:10])\n",
    "recv_into(a, c)\n",
    "print(a[0:10])\n",
    "print(c)"
   ]
  },
  {
   "cell_type": "code",
   "execution_count": null,
   "metadata": {
    "collapsed": false
   },
   "outputs": [],
   "source": [
    "from socket import *\n",
    "import numpy as np\n",
    "\n",
    "def send_from(arr, dest):\n",
    "    view = memoryview(arr).cast('B') \n",
    "    while len(view):\n",
    "        nsent = dest.send(view)\n",
    "        view = view[nsent:]\n",
    "            \n",
    "\n",
    "s = socket(AF_INET, SOCK_STREAM)\n",
    "s.bind(('', 25000))\n",
    "s.listen(1)\n",
    "c,addr = s.accept()\n",
    "print(c)\n",
    "print(addr)\n",
    "print(s)\n",
    "a = np.arange(0.0, 50000000.0)\n",
    "send_from(a, c)"
   ]
  },
  {
   "cell_type": "code",
   "execution_count": 5,
   "metadata": {
    "collapsed": false
   },
   "outputs": [
    {
     "name": "stdout",
     "output_type": "stream",
     "text": [
      "Overwriting echo_client_custom.py\n"
     ]
    }
   ],
   "source": [
    "%%file echo_client_custom.py\n",
    "import sys\n",
    "from socket import socket, AF_INET, SOCK_STREAM\n",
    "s = socket(AF_INET, SOCK_STREAM)\n",
    "s.connect(('localhost', 20000))\n",
    "s.send(sys.argv[1].encode())\n",
    "print(s.recv(8192))"
   ]
  },
  {
   "cell_type": "code",
   "execution_count": 15,
   "metadata": {
    "collapsed": false
   },
   "outputs": [],
   "source": [
    "from Similarity.find_most_similar import find_most_similiar"
   ]
  },
  {
   "cell_type": "code",
   "execution_count": 16,
   "metadata": {
    "collapsed": false
   },
   "outputs": [
    {
     "data": {
      "text/plain": [
       "['D:\\\\Dropbox (HNL)\\\\coursework\\\\CS207\\\\project\\\\cs207project\\\\timeseries',\n",
       " 'D:\\\\Dropbox (HNL)\\\\coursework\\\\CS207\\\\project\\\\cs207project',\n",
       " 'D:\\\\Dropbox (HNL)\\\\coursework\\\\CS207\\\\project\\\\cs207project\\\\timeseries\\\\Similarity',\n",
       " 'D:\\\\Dropbox (HNL)\\\\coursework\\\\CS207\\\\project\\\\cs207project\\\\timeseries',\n",
       " 'D:\\\\Dropbox (HNL)\\\\coursework\\\\CS207\\\\project\\\\cs207project/cs207rbtree',\n",
       " 'D:\\\\Dropbox (HNL)\\\\coursework\\\\CS207\\\\project\\\\cs207project\\\\timeseries\\\\Similarity',\n",
       " 'D:\\\\Dropbox (HNL)\\\\coursework\\\\CS207\\\\project\\\\cs207project\\\\timeseries',\n",
       " 'D:\\\\Dropbox (HNL)\\\\coursework\\\\CS207\\\\project\\\\cs207project/timeseries',\n",
       " 'D:\\\\Dropbox (HNL)\\\\coursework\\\\CS207\\\\project\\\\cs207project',\n",
       " 'D:\\\\Dropbox (HNL)\\\\coursework\\\\CS207\\\\project\\\\cs207project/timeseries',\n",
       " 'D:\\\\Dropbox (HNL)\\\\coursework\\\\CS207\\\\project\\\\cs207project',\n",
       " '',\n",
       " 'C:\\\\Users\\\\Andrew\\\\Anaconda2\\\\envs\\\\py35\\\\python35.zip',\n",
       " 'C:\\\\Users\\\\Andrew\\\\Anaconda2\\\\envs\\\\py35\\\\DLLs',\n",
       " 'C:\\\\Users\\\\Andrew\\\\Anaconda2\\\\envs\\\\py35\\\\lib',\n",
       " 'C:\\\\Users\\\\Andrew\\\\Anaconda2\\\\envs\\\\py35',\n",
       " 'C:\\\\Users\\\\Andrew\\\\Anaconda2\\\\envs\\\\py35\\\\lib\\\\site-packages',\n",
       " 'C:\\\\Users\\\\Andrew\\\\Anaconda2\\\\envs\\\\py35\\\\lib\\\\site-packages\\\\Sphinx-1.4.1-py3.5.egg',\n",
       " 'C:\\\\Users\\\\Andrew\\\\Anaconda2\\\\envs\\\\py35\\\\lib\\\\site-packages\\\\win32',\n",
       " 'C:\\\\Users\\\\Andrew\\\\Anaconda2\\\\envs\\\\py35\\\\lib\\\\site-packages\\\\win32\\\\lib',\n",
       " 'C:\\\\Users\\\\Andrew\\\\Anaconda2\\\\envs\\\\py35\\\\lib\\\\site-packages\\\\Pythonwin',\n",
       " 'C:\\\\Users\\\\Andrew\\\\Anaconda2\\\\envs\\\\py35\\\\lib\\\\site-packages\\\\setuptools-23.0.0-py3.5.egg',\n",
       " 'C:\\\\Users\\\\Andrew\\\\Anaconda2\\\\envs\\\\py35\\\\lib\\\\site-packages\\\\IPython\\\\extensions',\n",
       " 'C:\\\\Users\\\\Andrew\\\\.ipython']"
      ]
     },
     "execution_count": 16,
     "metadata": {},
     "output_type": "execute_result"
    }
   ],
   "source": [
    "sys.path"
   ]
  },
  {
   "cell_type": "markdown",
   "metadata": {},
   "source": [
    "# This is the client!!"
   ]
  },
  {
   "cell_type": "code",
   "execution_count": 323,
   "metadata": {
    "collapsed": false
   },
   "outputs": [],
   "source": [
    "from ArrayTimeSeries import ArrayTimeSeries as ts\n",
    "import numpy as np\n",
    "from scipy.stats import norm\n",
    "\n",
    "t = np.arange(0.0, 1.0, 0.01)\n",
    "v = norm.pdf(t, 100, 100) + 1000*np.random.randn(100)\n",
    "ts_test = ts(t, v)\n",
    "\n",
    "#d2 = {'op':'TSfromID','id':12,'courtesy':'please'}\n",
    "#d2 = {'op':'simsearch_id','id':12,'n_closest':2,'courtesy':'please'}\n",
    "d2 = {'op':'simsearch_ts','ts':[list(ts_test.times()), list(ts_test.values())],'courtesy':'please'}\n",
    "s2 = serialize(json.dumps(d2))"
   ]
  },
  {
   "cell_type": "code",
   "execution_count": 324,
   "metadata": {
    "collapsed": false
   },
   "outputs": [
    {
     "data": {
      "text/plain": [
       "b'\\xd0\\n\\x00\\x00{\"courtesy\": \"please\", \"op\": \"simsearch_ts\", \"ts\": [[0.0, 0.01, 0.02, 0.03, 0.04, 0.05, 0.06, 0.07, 0.08, 0.09, 0.1, 0.11, 0.12, 0.13, 0.14, 0.15, 0.16, 0.17, 0.18, 0.19, 0.2, 0.21, 0.22, 0.23, 0.24, 0.25, 0.26, 0.27, 0.28, 0.29, 0.3, 0.31, 0.32, 0.33, 0.34, 0.35000000000000003, 0.36, 0.37, 0.38, 0.39, 0.4, 0.41000000000000003, 0.42, 0.43, 0.44, 0.45, 0.46, 0.47000000000000003, 0.48, 0.49, 0.5, 0.51, 0.52, 0.53, 0.54, 0.55, 0.56, 0.5700000000000001, 0.58, 0.59, 0.6, 0.61, 0.62, 0.63, 0.64, 0.65, 0.66, 0.67, 0.68, 0.6900000000000001, 0.7000000000000001, 0.71, 0.72, 0.73, 0.74, 0.75, 0.76, 0.77, 0.78, 0.79, 0.8, 0.81, 0.8200000000000001, 0.8300000000000001, 0.84, 0.85, 0.86, 0.87, 0.88, 0.89, 0.9, 0.91, 0.92, 0.93, 0.9400000000000001, 0.9500000000000001, 0.96, 0.97, 0.98, 0.99], [-1086.70278850323, -175.72776902854574, -917.5058236680891, -71.2771487597083, -531.1014099380964, -368.615542166242, -1891.1847393134287, 1034.6694680702667, -751.7923987015445, 473.64518471541976, 365.69682964876506, 392.85225227486944, 870.2562540218936, 969.8614025131432, 153.08557871138166, -741.1834645289483, -277.6214751348221, -921.5041288144027, -875.0868910041983, -2012.8081316005757, 1536.4567673473023, 354.00017948792794, 995.5160454749152, 689.4088432138943, 627.651594747087, -384.7439726715274, 553.2488113234496, 594.6905990283724, -220.87147669041434, 390.8174327206034, -1596.7536335502132, 2114.9685445487544, -97.9598320247293, 717.1166115517289, -797.8818288908079, 1615.8421526724858, -775.6101562970719, 223.15453665503205, -1360.3139213723282, 1274.0373042083886, 2069.88457490827, -331.0511695367351, 1275.4585571169857, -1129.739186862315, 852.7291104219166, 125.07026179423795, -37.27930340049369, 295.43377324323137, -595.5310373746854, -260.51522144243773, 1837.2769786962224, 733.2062713461748, 639.6965654049986, 677.8293389165427, 800.1817297074873, 128.9479717687056, -402.4538484534558, 1602.818650169875, 1509.3328481843632, 682.286944067149, 162.4058043933431, -385.0179449782453, 154.7491117958, 1137.0453674796736, -161.55062498859493, 371.6018071867984, 1571.9185427893253, -624.247722991494, 806.8825049584341, 1885.8180944241144, -768.8160242321541, 12.142377478333788, 1096.775647480922, 234.41357184776595, -1155.8243432644592, -255.5196010783002, -594.4284564985186, -193.97165954874743, 300.15568811761153, 396.680841754888, 1379.8460853738432, -758.5799244063712, 425.35689802952726, -456.1763277476031, 541.629135704024, -41.08812872405526, 164.51091938317865, -0.6584148190126367, 410.2735156101757, 1037.8211051553853, 389.63445721381134, 346.30725821780663, -229.18057806419145, -802.4829665506614, -1233.5556092691595, 462.98920826967543, -1383.320045146438, 1616.2143587383014, 2094.5589779842803, 240.92890876502804]]}'"
      ]
     },
     "execution_count": 324,
     "metadata": {},
     "output_type": "execute_result"
    }
   ],
   "source": [
    "s2"
   ]
  },
  {
   "cell_type": "code",
   "execution_count": 327,
   "metadata": {
    "collapsed": false
   },
   "outputs": [
    {
     "name": "stdout",
     "output_type": "stream",
     "text": [
      "b';\\x00\\x00\\x00{\"op\": \"simsearch_id\", \"id\": [399, 117, 314, 106, 475]}'\n"
     ]
    }
   ],
   "source": [
    "import sys\n",
    "from socket import socket, AF_INET, SOCK_STREAM\n",
    "s = socket(AF_INET, SOCK_STREAM)\n",
    "s.connect(('localhost', 20000))\n",
    "s.send(s2)\n",
    "msg = s.recv(8192)\n",
    "print(msg)"
   ]
  },
  {
   "cell_type": "code",
   "execution_count": 330,
   "metadata": {
    "collapsed": false,
    "scrolled": true
   },
   "outputs": [
    {
     "name": "stdout",
     "output_type": "stream",
     "text": [
      "{'op': 'simsearch_id', 'id': [399, 117, 314, 106, 475]}\n",
      "[399, 117, 314, 106, 475]\n"
     ]
    }
   ],
   "source": [
    "ds = Deserializer()\n",
    "ds.append(msg)\n",
    "ds.ready()\n",
    "response = ds.deserialize()\n",
    "response\n",
    "if 'ts' in response:\n",
    "    a = response['ts']\n",
    "elif 'id' in a:\n",
    "    a = response['id']\n",
    "print(response)\n",
    "print(a)"
   ]
  },
  {
   "cell_type": "code",
   "execution_count": 331,
   "metadata": {
    "collapsed": false
   },
   "outputs": [
    {
     "data": {
      "text/plain": [
       "{'id': [399, 117, 314, 106, 475], 'op': 'simsearch_id'}"
      ]
     },
     "execution_count": 331,
     "metadata": {},
     "output_type": "execute_result"
    }
   ],
   "source": [
    "response"
   ]
  },
  {
   "cell_type": "markdown",
   "metadata": {
    "collapsed": true
   },
   "source": [
    "### Above is the output I'm getting- still need to discuss interpolation and also adding in the parameter for number of timeseries to find"
   ]
  },
  {
   "cell_type": "code",
   "execution_count": 239,
   "metadata": {
    "collapsed": false
   },
   "outputs": [],
   "source": [
    "def dic_fun(**kwargs):\n",
    "    a = {}\n",
    "    for k,v in kwargs.items():\n",
    "        a[k]=v\n",
    "    print(a)"
   ]
  },
  {
   "cell_type": "code",
   "execution_count": 240,
   "metadata": {
    "collapsed": false
   },
   "outputs": [
    {
     "name": "stdout",
     "output_type": "stream",
     "text": [
      "{'b': 17, 'a': 12}\n"
     ]
    }
   ],
   "source": [
    "dic_fun(a=12,b=17)"
   ]
  },
  {
   "cell_type": "code",
   "execution_count": 259,
   "metadata": {
    "collapsed": false
   },
   "outputs": [],
   "source": [
    "import MessageFormatting\n",
    "import importlib\n",
    "importlib.reload(MessageFormatting)\n",
    "from MessageFormatting import *"
   ]
  },
  {
   "cell_type": "code",
   "execution_count": 265,
   "metadata": {
    "collapsed": false
   },
   "outputs": [
    {
     "data": {
      "text/plain": [
       "{'id': 12, 'op': 'TSfromID'}"
      ]
     },
     "execution_count": 265,
     "metadata": {},
     "output_type": "execute_result"
    }
   ],
   "source": [
    "d2 = {'op':'simsearch_ts','ts':[[1,2,3],[4,5,6]],'courtesy':'please'}\n",
    "d2 = {'op':'simsearch_id','id':12,'courtesy':'please','n_closest':12}\n",
    "d2 = {'op':'TSfromID','id':12,'courtesy':'please'}\n",
    "c = TSDBOp.from_json(d2)\n",
    "c"
   ]
  },
  {
   "cell_type": "code",
   "execution_count": null,
   "metadata": {
    "collapsed": true
   },
   "outputs": [],
   "source": []
  },
  {
   "cell_type": "code",
   "execution_count": null,
   "metadata": {
    "collapsed": true
   },
   "outputs": [],
   "source": []
  },
  {
   "cell_type": "code",
   "execution_count": 72,
   "metadata": {
    "collapsed": false
   },
   "outputs": [
    {
     "name": "stdout",
     "output_type": "stream",
     "text": [
      "Invalid JSON object received:\n",
      "success!\n"
     ]
    }
   ],
   "source": [
    "ds = Deserializer()\n",
    "ds.append(msg)\n",
    "ds.deserialize()"
   ]
  },
  {
   "cell_type": "code",
   "execution_count": 69,
   "metadata": {
    "collapsed": false
   },
   "outputs": [
    {
     "data": {
      "text/plain": [
       "b'\\x0c\\x00\\x00\\x00success!'"
      ]
     },
     "execution_count": 69,
     "metadata": {},
     "output_type": "execute_result"
    }
   ],
   "source": [
    "msg"
   ]
  },
  {
   "cell_type": "code",
   "execution_count": 65,
   "metadata": {
    "collapsed": false
   },
   "outputs": [
    {
     "data": {
      "text/plain": [
       "'\"success!\"'"
      ]
     },
     "execution_count": 65,
     "metadata": {},
     "output_type": "execute_result"
    }
   ],
   "source": [
    "json.dumps('success!')"
   ]
  },
  {
   "cell_type": "code",
   "execution_count": 73,
   "metadata": {
    "collapsed": false
   },
   "outputs": [],
   "source": [
    "#json.loads(TSDBOp.to_json('success!'))"
   ]
  },
  {
   "cell_type": "code",
   "execution_count": 4,
   "metadata": {
    "collapsed": false
   },
   "outputs": [],
   "source": [
    "from Similarity.find_most_similar import find_most_similiar"
   ]
  },
  {
   "cell_type": "code",
   "execution_count": 5,
   "metadata": {
    "collapsed": false
   },
   "outputs": [
    {
     "data": {
      "text/plain": [
       "['D:\\\\Dropbox (HNL)\\\\coursework\\\\CS207\\\\project\\\\cs207project\\\\timeseries',\n",
       " 'D:\\\\Dropbox (HNL)\\\\coursework\\\\CS207\\\\project\\\\cs207project/cs207rbtree',\n",
       " 'D:\\\\Dropbox (HNL)\\\\coursework\\\\CS207\\\\project\\\\cs207project\\\\timeseries\\\\Similarity',\n",
       " 'D:\\\\Dropbox (HNL)\\\\coursework\\\\CS207\\\\project\\\\cs207project\\\\timeseries',\n",
       " 'D:\\\\Dropbox (HNL)\\\\coursework\\\\CS207\\\\project\\\\cs207project/cs207rbtree',\n",
       " 'D:\\\\Dropbox (HNL)\\\\coursework\\\\CS207\\\\project\\\\cs207project\\\\timeseries\\\\Similarity',\n",
       " 'D:\\\\Dropbox (HNL)\\\\coursework\\\\CS207\\\\project\\\\cs207project\\\\timeseries',\n",
       " 'D:\\\\Dropbox (HNL)\\\\coursework\\\\CS207\\\\project\\\\cs207project/timeseries',\n",
       " 'D:\\\\Dropbox (HNL)\\\\coursework\\\\CS207\\\\project\\\\cs207project',\n",
       " 'D:\\\\Dropbox (HNL)\\\\coursework\\\\CS207\\\\project\\\\cs207project/timeseries',\n",
       " 'D:\\\\Dropbox (HNL)\\\\coursework\\\\CS207\\\\project\\\\cs207project',\n",
       " '',\n",
       " 'C:\\\\Users\\\\Andrew\\\\Anaconda2\\\\envs\\\\py35\\\\python35.zip',\n",
       " 'C:\\\\Users\\\\Andrew\\\\Anaconda2\\\\envs\\\\py35\\\\DLLs',\n",
       " 'C:\\\\Users\\\\Andrew\\\\Anaconda2\\\\envs\\\\py35\\\\lib',\n",
       " 'C:\\\\Users\\\\Andrew\\\\Anaconda2\\\\envs\\\\py35',\n",
       " 'C:\\\\Users\\\\Andrew\\\\Anaconda2\\\\envs\\\\py35\\\\lib\\\\site-packages',\n",
       " 'C:\\\\Users\\\\Andrew\\\\Anaconda2\\\\envs\\\\py35\\\\lib\\\\site-packages\\\\Sphinx-1.4.1-py3.5.egg',\n",
       " 'C:\\\\Users\\\\Andrew\\\\Anaconda2\\\\envs\\\\py35\\\\lib\\\\site-packages\\\\win32',\n",
       " 'C:\\\\Users\\\\Andrew\\\\Anaconda2\\\\envs\\\\py35\\\\lib\\\\site-packages\\\\win32\\\\lib',\n",
       " 'C:\\\\Users\\\\Andrew\\\\Anaconda2\\\\envs\\\\py35\\\\lib\\\\site-packages\\\\Pythonwin',\n",
       " 'C:\\\\Users\\\\Andrew\\\\Anaconda2\\\\envs\\\\py35\\\\lib\\\\site-packages\\\\setuptools-23.0.0-py3.5.egg',\n",
       " 'C:\\\\Users\\\\Andrew\\\\Anaconda2\\\\envs\\\\py35\\\\lib\\\\site-packages\\\\IPython\\\\extensions',\n",
       " 'C:\\\\Users\\\\Andrew\\\\.ipython']"
      ]
     },
     "execution_count": 5,
     "metadata": {},
     "output_type": "execute_result"
    }
   ],
   "source": [
    "sys.path"
   ]
  },
  {
   "cell_type": "code",
   "execution_count": 28,
   "metadata": {
    "collapsed": false
   },
   "outputs": [
    {
     "data": {
      "text/plain": [
       "'D:\\\\Dropbox (HNL)\\\\coursework\\\\CS207\\\\project\\\\cs207project\\\\TimeseriesDB'"
      ]
     },
     "execution_count": 28,
     "metadata": {},
     "output_type": "execute_result"
    }
   ],
   "source": [
    "os.getcwd()"
   ]
  },
  {
   "cell_type": "code",
   "execution_count": 29,
   "metadata": {
    "collapsed": false
   },
   "outputs": [
    {
     "ename": "NameError",
     "evalue": "name '__file__' is not defined",
     "output_type": "error",
     "traceback": [
      "\u001b[1;31m\u001b[0m",
      "\u001b[1;31mNameError\u001b[0mTraceback (most recent call last)",
      "\u001b[1;32m<ipython-input-29-0e75f935e925>\u001b[0m in \u001b[0;36m<module>\u001b[1;34m()\u001b[0m\n\u001b[1;32m----> 1\u001b[1;33m \u001b[0mos\u001b[0m\u001b[1;33m.\u001b[0m\u001b[0mpath\u001b[0m\u001b[1;33m.\u001b[0m\u001b[0mdirname\u001b[0m\u001b[1;33m(\u001b[0m\u001b[0mos\u001b[0m\u001b[1;33m.\u001b[0m\u001b[0mpath\u001b[0m\u001b[1;33m.\u001b[0m\u001b[0mabspath\u001b[0m\u001b[1;33m(\u001b[0m\u001b[0m__file__\u001b[0m\u001b[1;33m)\u001b[0m\u001b[1;33m)\u001b[0m\u001b[1;33m\u001b[0m\u001b[0m\n\u001b[0m",
      "\u001b[1;31mNameError\u001b[0m: name '__file__' is not defined"
     ]
    }
   ],
   "source": [
    "os.path.dirname(os.path.abspath(__file__))"
   ]
  },
  {
   "cell_type": "code",
   "execution_count": 121,
   "metadata": {
    "collapsed": false
   },
   "outputs": [],
   "source": [
    "from StorageManager import FileStorageManager"
   ]
  },
  {
   "cell_type": "code",
   "execution_count": null,
   "metadata": {
    "collapsed": true
   },
   "outputs": [],
   "source": [
    "sm = File"
   ]
  }
 ],
 "metadata": {
  "anaconda-cloud": {},
  "kernelspec": {
   "display_name": "Python [py35]",
   "language": "python",
   "name": "Python [py35]"
  },
  "language_info": {
   "codemirror_mode": {
    "name": "ipython",
    "version": 3
   },
   "file_extension": ".py",
   "mimetype": "text/x-python",
   "name": "python",
   "nbconvert_exporter": "python",
   "pygments_lexer": "ipython3",
   "version": "3.5.2"
  }
 },
 "nbformat": 4,
 "nbformat_minor": 0
}
