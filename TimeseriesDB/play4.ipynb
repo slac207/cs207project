{
 "cells": [
  {
   "cell_type": "code",
   "execution_count": 2,
   "metadata": {
    "collapsed": false
   },
   "outputs": [
    {
     "ename": "ImportError",
     "evalue": "No module named 'server'",
     "output_type": "error",
     "traceback": [
      "\u001b[1;31m\u001b[0m",
      "\u001b[1;31mImportError\u001b[0mTraceback (most recent call last)",
      "\u001b[1;32m<ipython-input-2-a21ba1726b55>\u001b[0m in \u001b[0;36m<module>\u001b[1;34m()\u001b[0m\n\u001b[1;32m----> 1\u001b[1;33m \u001b[1;32mimport\u001b[0m \u001b[0mserver\u001b[0m\u001b[1;33m\u001b[0m\u001b[0m\n\u001b[0m\u001b[0;32m      2\u001b[0m \u001b[1;32mimport\u001b[0m \u001b[0mimportlib\u001b[0m\u001b[1;33m\u001b[0m\u001b[0m\n\u001b[0;32m      3\u001b[0m \u001b[0mimportlib\u001b[0m\u001b[1;33m.\u001b[0m\u001b[0mreload\u001b[0m\u001b[1;33m(\u001b[0m\u001b[0mserver\u001b[0m\u001b[1;33m)\u001b[0m\u001b[1;33m\u001b[0m\u001b[0m\n\u001b[0;32m      4\u001b[0m \u001b[1;32mfrom\u001b[0m \u001b[0mserver\u001b[0m \u001b[1;32mimport\u001b[0m \u001b[1;33m*\u001b[0m\u001b[1;33m\u001b[0m\u001b[0m\n",
      "\u001b[1;31mImportError\u001b[0m: No module named 'server'"
     ]
    }
   ],
   "source": [
    "import server\n",
    "import importlib\n",
    "importlib.reload(server)\n",
    "from server import *"
   ]
  },
  {
   "cell_type": "code",
   "execution_count": 95,
   "metadata": {
    "collapsed": false
   },
   "outputs": [],
   "source": [
    "a = TSDBOp_SimSearch_TS('TSfromID')\n",
    "a['ts'] = [np.array((1,2,3)),np.array((2,3,4))]"
   ]
  },
  {
   "cell_type": "code",
   "execution_count": 94,
   "metadata": {
    "collapsed": false
   },
   "outputs": [
    {
     "data": {
      "text/plain": [
       "{'op': 'simsearch_ts', 'ts': '[[1, 2, 3], [2, 3, 4]]'}"
      ]
     },
     "execution_count": 94,
     "metadata": {},
     "output_type": "execute_result"
    }
   ],
   "source": [
    "a.to_json()"
   ]
  },
  {
   "cell_type": "code",
   "execution_count": null,
   "metadata": {
    "collapsed": true
   },
   "outputs": [],
   "source": []
  },
  {
   "cell_type": "code",
   "execution_count": 2,
   "metadata": {
    "collapsed": false
   },
   "outputs": [
    {
     "name": "stdout",
     "output_type": "stream",
     "text": [
      "{\"0\": \"moon\", \"1\": \"sun\"}\n"
     ]
    }
   ],
   "source": [
    "d = {0:'moon',1:'sun'}\n",
    "json_d = json.dumps(d)\n",
    "print(json_d)\n",
    "s = serialize(json_d)"
   ]
  },
  {
   "cell_type": "code",
   "execution_count": 3,
   "metadata": {
    "collapsed": false
   },
   "outputs": [
    {
     "name": "stdout",
     "output_type": "stream",
     "text": [
      "False\n",
      "True\n",
      "True\n",
      "{'0': 'moon', '1': 'sun'}\n",
      "True\n",
      "b'\\x1d\\x00\\x00\\x00{\"0\": \"moon\", \"1\": \"sun\"}'\n",
      "{'0': 'moon', '1': 'sun'}\n",
      "False\n"
     ]
    }
   ],
   "source": [
    "ds = Deserializer()\n",
    "print(ds.ready())\n",
    "ds.append(s)\n",
    "print(ds.ready())\n",
    "ds.append(s)\n",
    "print(ds.ready())\n",
    "print(ds.deserialize())\n",
    "print(ds.ready())\n",
    "print(ds.buf)\n",
    "print(ds.deserialize())\n",
    "print(ds.ready())\n"
   ]
  },
  {
   "cell_type": "code",
   "execution_count": null,
   "metadata": {
    "collapsed": false
   },
   "outputs": [],
   "source": []
  },
  {
   "cell_type": "code",
   "execution_count": 4,
   "metadata": {
    "collapsed": false
   },
   "outputs": [
    {
     "data": {
      "text/plain": [
       "({'id': 12, 'op': 'TSfromID'}, b' \\x00\\x00\\x00{\"op\": \"TSfromID\", \"id\": 12}')"
      ]
     },
     "execution_count": 4,
     "metadata": {},
     "output_type": "execute_result"
    }
   ],
   "source": [
    "#d2 = {'op':'simsearch_ts','ts':[list(range(10)),list(range(10))]}\n",
    "#d2 = {'op':'simsearch_id','id':12}\n",
    "d2 = {'op':'TSfromID','id':12}\n",
    "#d2 = {'op':'other','id':12}\n",
    "s2 = serialize(json.dumps(d2))\n",
    "d2,s2\n",
    "#TSDBOp('with_ts')"
   ]
  },
  {
   "cell_type": "code",
   "execution_count": 5,
   "metadata": {
    "collapsed": false
   },
   "outputs": [
    {
     "name": "stdout",
     "output_type": "stream",
     "text": [
      "{'op': 'TSfromID', 'id': 12}\n"
     ]
    }
   ],
   "source": [
    "deserializer = Deserializer()\n",
    "deserializer.append(s2)\n",
    "deserializer.ready()\n",
    "msg = deserializer.deserialize()\n",
    "print(msg)\n",
    "status = TSDBStatus.OK  # until proven otherwise.\n",
    "response = TSDBOp_Return(status, None)  # until proven otherwise."
   ]
  },
  {
   "cell_type": "code",
   "execution_count": 6,
   "metadata": {
    "collapsed": false
   },
   "outputs": [
    {
     "data": {
      "text/plain": [
       "(<TSDBStatus.OK: 0>,\n",
       " {'op': None, 'payload': None, 'status': <TSDBStatus.OK: 0>})"
      ]
     },
     "execution_count": 6,
     "metadata": {},
     "output_type": "execute_result"
    }
   ],
   "source": [
    "status,response"
   ]
  },
  {
   "cell_type": "code",
   "execution_count": 7,
   "metadata": {
    "collapsed": false
   },
   "outputs": [],
   "source": [
    "try:\n",
    "    tsdbop = TSDBOp.from_json(msg)\n",
    "except TypeError as e:\n",
    "    status = TSDBStatus.INVALID_OPERATION\n",
    "    response = TSDBOp_Return(TSDBStatus.INVALID_OPERATION, None)\n",
    "    print('error here')\n",
    "else:\n",
    "    tsdbop"
   ]
  },
  {
   "cell_type": "code",
   "execution_count": 8,
   "metadata": {
    "collapsed": false
   },
   "outputs": [
    {
     "data": {
      "text/plain": [
       "({'op': None, 'payload': None, 'status': <TSDBStatus.OK: 0>},\n",
       " <TSDBStatus.OK: 0>)"
      ]
     },
     "execution_count": 8,
     "metadata": {},
     "output_type": "execute_result"
    }
   ],
   "source": [
    "response,status"
   ]
  },
  {
   "cell_type": "code",
   "execution_count": 9,
   "metadata": {
    "collapsed": false
   },
   "outputs": [
    {
     "data": {
      "text/plain": [
       "(False, False, True)"
      ]
     },
     "execution_count": 9,
     "metadata": {},
     "output_type": "execute_result"
    }
   ],
   "source": [
    "isinstance(tsdbop, TSDBOp_SimSearch_TS),isinstance(tsdbop, TSDBOp_SimSearch_ID),isinstance(tsdbop, TSDBOp_TSfromID)\n"
   ]
  },
  {
   "cell_type": "code",
   "execution_count": 10,
   "metadata": {
    "collapsed": false
   },
   "outputs": [
    {
     "data": {
      "text/plain": [
       "server.TSDBOp_TSfromID"
      ]
     },
     "execution_count": 10,
     "metadata": {},
     "output_type": "execute_result"
    }
   ],
   "source": [
    "type(tsdbop)"
   ]
  },
  {
   "cell_type": "code",
   "execution_count": 11,
   "metadata": {
    "collapsed": false
   },
   "outputs": [
    {
     "data": {
      "text/plain": [
       "{'id': 12, 'op': 'TSfromID'}"
      ]
     },
     "execution_count": 11,
     "metadata": {},
     "output_type": "execute_result"
    }
   ],
   "source": [
    "tsdbop"
   ]
  },
  {
   "cell_type": "code",
   "execution_count": 12,
   "metadata": {
    "collapsed": false
   },
   "outputs": [
    {
     "data": {
      "text/plain": [
       "12"
      ]
     },
     "execution_count": 12,
     "metadata": {},
     "output_type": "execute_result"
    }
   ],
   "source": [
    "tsdbop['id']"
   ]
  },
  {
   "cell_type": "code",
   "execution_count": 13,
   "metadata": {
    "collapsed": false
   },
   "outputs": [
    {
     "ename": "NameError",
     "evalue": "name 'self' is not defined",
     "output_type": "error",
     "traceback": [
      "\u001b[1;31m\u001b[0m",
      "\u001b[1;31mNameError\u001b[0mTraceback (most recent call last)",
      "\u001b[1;32m<ipython-input-13-da97ea3839d2>\u001b[0m in \u001b[0;36m<module>\u001b[1;34m()\u001b[0m\n\u001b[1;32m----> 1\u001b[1;33m \u001b[0mself\u001b[0m\u001b[1;33m.\u001b[0m\u001b[0mdeserializer\u001b[0m\u001b[1;33m.\u001b[0m\u001b[0mappend\u001b[0m\u001b[1;33m(\u001b[0m\u001b[0mdata\u001b[0m\u001b[1;33m)\u001b[0m\u001b[1;33m\u001b[0m\u001b[0m\n\u001b[0m\u001b[0;32m      2\u001b[0m \u001b[1;32mif\u001b[0m \u001b[0mself\u001b[0m\u001b[1;33m.\u001b[0m\u001b[0mdeserializer\u001b[0m\u001b[1;33m.\u001b[0m\u001b[0mready\u001b[0m\u001b[1;33m(\u001b[0m\u001b[1;33m)\u001b[0m\u001b[1;33m:\u001b[0m\u001b[1;33m\u001b[0m\u001b[0m\n\u001b[0;32m      3\u001b[0m     \u001b[0mmsg\u001b[0m \u001b[1;33m=\u001b[0m \u001b[0mself\u001b[0m\u001b[1;33m.\u001b[0m\u001b[0mdeserializer\u001b[0m\u001b[1;33m.\u001b[0m\u001b[0mdeserialize\u001b[0m\u001b[1;33m(\u001b[0m\u001b[1;33m)\u001b[0m\u001b[1;33m\u001b[0m\u001b[0m\n\u001b[0;32m      4\u001b[0m     \u001b[0mstatus\u001b[0m \u001b[1;33m=\u001b[0m \u001b[0mTSDBStatus\u001b[0m\u001b[1;33m.\u001b[0m\u001b[0mOK\u001b[0m  \u001b[1;31m# until proven otherwise.\u001b[0m\u001b[1;33m\u001b[0m\u001b[0m\n\u001b[0;32m      5\u001b[0m     \u001b[0mresponse\u001b[0m \u001b[1;33m=\u001b[0m \u001b[0mTSDBOp_Return\u001b[0m\u001b[1;33m(\u001b[0m\u001b[0mstatus\u001b[0m\u001b[1;33m,\u001b[0m \u001b[1;32mNone\u001b[0m\u001b[1;33m)\u001b[0m  \u001b[1;31m# until proven otherwise.\u001b[0m\u001b[1;33m\u001b[0m\u001b[0m\n",
      "\u001b[1;31mNameError\u001b[0m: name 'self' is not defined"
     ]
    }
   ],
   "source": [
    "        self.deserializer.append(data)\n",
    "        if self.deserializer.ready():\n",
    "            msg = self.deserializer.deserialize()\n",
    "            status = TSDBStatus.OK  # until proven otherwise.\n",
    "            response = TSDBOp_Return(status, None)  # until proven otherwise.\n",
    "            try:\n",
    "                    tsdbop = TSDBOp.from_json(msg)\n",
    "            except TypeError as e:\n",
    "                response = TSDBOp_Return(TSDBStatus.INVALID_OPERATION, None)\n",
    "            if status is TSDBStatus.OK:\n",
    "                if isinstance(tsdbop, TSDBOp_withTS):\n",
    "                    response = self._with_ts(tsdbop)\n",
    "                elif isinstance(tsdbop, TSDBOp_withID):\n",
    "                    response = self._with_id(tsdbop)\n",
    "                else:\n",
    "                    response = TSDBOp_Return(TSDBStatus.UNKNOWN_ERROR, tsdbop['op'])\n",
    "\n",
    "            serialize(response.to_json())\n"
   ]
  },
  {
   "cell_type": "code",
   "execution_count": null,
   "metadata": {
    "collapsed": true
   },
   "outputs": [],
   "source": []
  },
  {
   "cell_type": "code",
   "execution_count": null,
   "metadata": {
    "collapsed": true
   },
   "outputs": [],
   "source": []
  },
  {
   "cell_type": "code",
   "execution_count": null,
   "metadata": {
    "collapsed": true
   },
   "outputs": [],
   "source": []
  },
  {
   "cell_type": "code",
   "execution_count": 14,
   "metadata": {
    "collapsed": false
   },
   "outputs": [
    {
     "ename": "ConnectionRefusedError",
     "evalue": "[WinError 10061] No connection could be made because the target machine actively refused it",
     "output_type": "error",
     "traceback": [
      "\u001b[1;31m\u001b[0m",
      "\u001b[1;31mConnectionRefusedError\u001b[0mTraceback (most recent call last)",
      "\u001b[1;32m<ipython-input-14-2794851af8b8>\u001b[0m in \u001b[0;36m<module>\u001b[1;34m()\u001b[0m\n\u001b[0;32m     12\u001b[0m \u001b[0mc\u001b[0m \u001b[1;33m=\u001b[0m \u001b[0msocket\u001b[0m\u001b[1;33m(\u001b[0m\u001b[0mAF_INET\u001b[0m\u001b[1;33m,\u001b[0m \u001b[0mSOCK_STREAM\u001b[0m\u001b[1;33m)\u001b[0m\u001b[1;33m\u001b[0m\u001b[0m\n\u001b[0;32m     13\u001b[0m \u001b[1;31m#c.bind(('',25001))\u001b[0m\u001b[1;33m\u001b[0m\u001b[1;33m\u001b[0m\u001b[0m\n\u001b[1;32m---> 14\u001b[1;33m \u001b[0mc\u001b[0m\u001b[1;33m.\u001b[0m\u001b[0mconnect\u001b[0m\u001b[1;33m(\u001b[0m\u001b[1;33m(\u001b[0m\u001b[1;34m'localhost'\u001b[0m\u001b[1;33m,\u001b[0m \u001b[1;36m25000\u001b[0m\u001b[1;33m)\u001b[0m\u001b[1;33m)\u001b[0m\u001b[1;33m\u001b[0m\u001b[0m\n\u001b[0m\u001b[0;32m     15\u001b[0m \u001b[0ma\u001b[0m \u001b[1;33m=\u001b[0m \u001b[0mnp\u001b[0m\u001b[1;33m.\u001b[0m\u001b[0mzeros\u001b[0m\u001b[1;33m(\u001b[0m\u001b[0mshape\u001b[0m\u001b[1;33m=\u001b[0m\u001b[1;36m50000000\u001b[0m\u001b[1;33m,\u001b[0m \u001b[0mdtype\u001b[0m\u001b[1;33m=\u001b[0m\u001b[0mfloat\u001b[0m\u001b[1;33m)\u001b[0m\u001b[1;33m\u001b[0m\u001b[0m\n\u001b[0;32m     16\u001b[0m \u001b[0mprint\u001b[0m\u001b[1;33m(\u001b[0m\u001b[0ma\u001b[0m\u001b[1;33m[\u001b[0m\u001b[1;36m0\u001b[0m\u001b[1;33m:\u001b[0m\u001b[1;36m10\u001b[0m\u001b[1;33m]\u001b[0m\u001b[1;33m)\u001b[0m\u001b[1;33m\u001b[0m\u001b[0m\n",
      "\u001b[1;31mConnectionRefusedError\u001b[0m: [WinError 10061] No connection could be made because the target machine actively refused it"
     ]
    }
   ],
   "source": [
    "import numpy as np\n",
    "from socket import *\n",
    "\n",
    "\n",
    "def recv_into(arr, source):\n",
    "    view = memoryview(arr).cast('B') \n",
    "    while len(view):\n",
    "        nrecv = source.recv_into(view)\n",
    "        print(\"recieved\", nrecv)\n",
    "        view = view[nrecv:]\n",
    "            \n",
    "c = socket(AF_INET, SOCK_STREAM)\n",
    "#c.bind(('',25001))\n",
    "c.connect(('localhost', 25000))\n",
    "a = np.zeros(shape=50000000, dtype=float)\n",
    "print(a[0:10])\n",
    "recv_into(a, c)\n",
    "print(a[0:10])\n",
    "print(c)"
   ]
  },
  {
   "cell_type": "code",
   "execution_count": null,
   "metadata": {
    "collapsed": false
   },
   "outputs": [],
   "source": [
    "from socket import *\n",
    "import numpy as np\n",
    "\n",
    "def send_from(arr, dest):\n",
    "    view = memoryview(arr).cast('B') \n",
    "    while len(view):\n",
    "        nsent = dest.send(view)\n",
    "        view = view[nsent:]\n",
    "            \n",
    "\n",
    "s = socket(AF_INET, SOCK_STREAM)\n",
    "s.bind(('', 25000))\n",
    "s.listen(1)\n",
    "c,addr = s.accept()\n",
    "print(c)\n",
    "print(addr)\n",
    "print(s)\n",
    "a = np.arange(0.0, 50000000.0)\n",
    "send_from(a, c)"
   ]
  },
  {
   "cell_type": "code",
   "execution_count": 5,
   "metadata": {
    "collapsed": false
   },
   "outputs": [
    {
     "name": "stdout",
     "output_type": "stream",
     "text": [
      "Overwriting echo_client_custom.py\n"
     ]
    }
   ],
   "source": [
    "%%file echo_client_custom.py\n",
    "import sys\n",
    "from socket import socket, AF_INET, SOCK_STREAM\n",
    "s = socket(AF_INET, SOCK_STREAM)\n",
    "s.connect(('localhost', 20000))\n",
    "s.send(sys.argv[1].encode())\n",
    "print(s.recv(8192))"
   ]
  },
  {
   "cell_type": "code",
   "execution_count": 15,
   "metadata": {
    "collapsed": false
   },
   "outputs": [],
   "source": [
    "from Similarity.find_most_similar import find_most_similiar"
   ]
  },
  {
   "cell_type": "code",
   "execution_count": 16,
   "metadata": {
    "collapsed": false
   },
   "outputs": [
    {
     "data": {
      "text/plain": [
       "['D:\\\\Dropbox (HNL)\\\\coursework\\\\CS207\\\\project\\\\cs207project\\\\timeseries',\n",
       " 'D:\\\\Dropbox (HNL)\\\\coursework\\\\CS207\\\\project\\\\cs207project',\n",
       " 'D:\\\\Dropbox (HNL)\\\\coursework\\\\CS207\\\\project\\\\cs207project\\\\timeseries\\\\Similarity',\n",
       " 'D:\\\\Dropbox (HNL)\\\\coursework\\\\CS207\\\\project\\\\cs207project\\\\timeseries',\n",
       " 'D:\\\\Dropbox (HNL)\\\\coursework\\\\CS207\\\\project\\\\cs207project/cs207rbtree',\n",
       " 'D:\\\\Dropbox (HNL)\\\\coursework\\\\CS207\\\\project\\\\cs207project\\\\timeseries\\\\Similarity',\n",
       " 'D:\\\\Dropbox (HNL)\\\\coursework\\\\CS207\\\\project\\\\cs207project\\\\timeseries',\n",
       " 'D:\\\\Dropbox (HNL)\\\\coursework\\\\CS207\\\\project\\\\cs207project/timeseries',\n",
       " 'D:\\\\Dropbox (HNL)\\\\coursework\\\\CS207\\\\project\\\\cs207project',\n",
       " 'D:\\\\Dropbox (HNL)\\\\coursework\\\\CS207\\\\project\\\\cs207project/timeseries',\n",
       " 'D:\\\\Dropbox (HNL)\\\\coursework\\\\CS207\\\\project\\\\cs207project',\n",
       " '',\n",
       " 'C:\\\\Users\\\\Andrew\\\\Anaconda2\\\\envs\\\\py35\\\\python35.zip',\n",
       " 'C:\\\\Users\\\\Andrew\\\\Anaconda2\\\\envs\\\\py35\\\\DLLs',\n",
       " 'C:\\\\Users\\\\Andrew\\\\Anaconda2\\\\envs\\\\py35\\\\lib',\n",
       " 'C:\\\\Users\\\\Andrew\\\\Anaconda2\\\\envs\\\\py35',\n",
       " 'C:\\\\Users\\\\Andrew\\\\Anaconda2\\\\envs\\\\py35\\\\lib\\\\site-packages',\n",
       " 'C:\\\\Users\\\\Andrew\\\\Anaconda2\\\\envs\\\\py35\\\\lib\\\\site-packages\\\\Sphinx-1.4.1-py3.5.egg',\n",
       " 'C:\\\\Users\\\\Andrew\\\\Anaconda2\\\\envs\\\\py35\\\\lib\\\\site-packages\\\\win32',\n",
       " 'C:\\\\Users\\\\Andrew\\\\Anaconda2\\\\envs\\\\py35\\\\lib\\\\site-packages\\\\win32\\\\lib',\n",
       " 'C:\\\\Users\\\\Andrew\\\\Anaconda2\\\\envs\\\\py35\\\\lib\\\\site-packages\\\\Pythonwin',\n",
       " 'C:\\\\Users\\\\Andrew\\\\Anaconda2\\\\envs\\\\py35\\\\lib\\\\site-packages\\\\setuptools-23.0.0-py3.5.egg',\n",
       " 'C:\\\\Users\\\\Andrew\\\\Anaconda2\\\\envs\\\\py35\\\\lib\\\\site-packages\\\\IPython\\\\extensions',\n",
       " 'C:\\\\Users\\\\Andrew\\\\.ipython']"
      ]
     },
     "execution_count": 16,
     "metadata": {},
     "output_type": "execute_result"
    }
   ],
   "source": [
    "sys.path"
   ]
  },
  {
   "cell_type": "markdown",
   "metadata": {},
   "source": [
    "# This is the client!!"
   ]
  },
  {
   "cell_type": "code",
   "execution_count": 3,
   "metadata": {
    "collapsed": false
   },
   "outputs": [],
   "source": [
    "import MessageFormatting\n",
    "import importlib\n",
    "importlib.reload(MessageFormatting)\n",
    "from MessageFormatting import *"
   ]
  },
  {
   "cell_type": "code",
   "execution_count": 29,
   "metadata": {
    "collapsed": false
   },
   "outputs": [],
   "source": [
    "from ArrayTimeSeries import ArrayTimeSeries as ts\n",
    "import numpy as np\n",
    "from scipy.stats import norm\n",
    "\n",
    "t = np.arange(0.0, 1.0, 0.01)\n",
    "v = norm.pdf(t, 100, 100) + 1000*np.random.randn(100)\n",
    "ts_test = ts(t, v)\n",
    "\n",
    "d2 = {'op':'TSfromID','id':12,'courtesy':'please'}\n",
    "#d2 = {'op':'simsearch_id','id':12,'n_closest':2,'courtesy':'please'}\n",
    "#d2 = {'op':'simsearch_ts','ts':[list(ts_test.times()), list(ts_test.values())],'courtesy':'please'}\n",
    "s2 = serialize(json.dumps(d2))"
   ]
  },
  {
   "cell_type": "code",
   "execution_count": 30,
   "metadata": {
    "collapsed": false
   },
   "outputs": [
    {
     "data": {
      "text/plain": [
       "b'6\\x00\\x00\\x00{\"courtesy\": \"please\", \"id\": 12, \"op\": \"TSfromID\"}'"
      ]
     },
     "execution_count": 30,
     "metadata": {},
     "output_type": "execute_result"
    }
   ],
   "source": [
    "s2"
   ]
  },
  {
   "cell_type": "code",
   "execution_count": 31,
   "metadata": {
    "collapsed": false
   },
   "outputs": [
    {
     "name": "stdout",
     "output_type": "stream",
     "text": [
      "b'\\xc8\\n\\x00\\x00{\"ts\": [[0.0, 0.01, 0.02, 0.03, 0.04, 0.05, 0.06, 0.07, 0.08, 0.09, 0.1, 0.11, 0.12, 0.13, 0.14, 0.15, 0.16, 0.17, 0.18, 0.19, 0.2, 0.21, 0.22, 0.23, 0.24, 0.25, 0.26, 0.27, 0.28, 0.29, 0.3, 0.31, 0.32, 0.33, 0.34, 0.35000000000000003, 0.36, 0.37, 0.38, 0.39, 0.4, 0.41000000000000003, 0.42, 0.43, 0.44, 0.45, 0.46, 0.47000000000000003, 0.48, 0.49, 0.5, 0.51, 0.52, 0.53, 0.54, 0.55, 0.56, 0.5700000000000001, 0.58, 0.59, 0.6, 0.61, 0.62, 0.63, 0.64, 0.65, 0.66, 0.67, 0.68, 0.6900000000000001, 0.7000000000000001, 0.71, 0.72, 0.73, 0.74, 0.75, 0.76, 0.77, 0.78, 0.79, 0.8, 0.81, 0.8200000000000001, 0.8300000000000001, 0.84, 0.85, 0.86, 0.87, 0.88, 0.89, 0.9, 0.91, 0.92, 0.93, 0.9400000000000001, 0.9500000000000001, 0.96, 0.97, 0.98, 0.99], [1013.850286916342, -740.7494012838497, 1414.1591186229784, 1129.2906283860013, -1354.332515642332, -629.151738775859, 1177.5706748908808, 225.50875353835124, -854.8082080572635, -2409.4416323117684, -552.5604631071237, 39.30975964088313, -354.3961961697856, -43.01025492864527, 550.5217029854384, -758.011240000087, -928.2119225587512, -344.61504153948914, 2206.13179593999, 197.19569935733674, -874.1447667151468, -776.1147558691475, -214.17955024579072, -244.97295061922347, 1034.326537514251, -428.28564017041515, -1567.6066887049783, 886.3632603356757, 320.21140953139684, 949.0643836262625, 1112.5826425935907, -425.5792983307666, -291.90263760897386, 122.42667983832011, -927.3367015592274, 270.57397534729995, 797.1102869637466, -49.1570452271175, 514.4498776018419, -2.7617700324081, 430.53214862330896, 1326.9697944374989, -435.5991964477082, -1527.3093041684783, 1049.4269083495726, -9.624254512600242, 200.81351973169802, -61.9928058094322, 1579.375618413859, 224.6672866441084, 1715.7420186647219, 578.9189173694971, -1302.3599210898929, -1218.865819947426, -1733.1507123252647, 190.49203864212816, 676.5360519734858, 198.04234813400618, -301.5279231244246, 1908.7335761863214, -1102.4179852550494, 1009.0723080802445, 1752.4476015549897, -537.0765725001005, 1942.6156105200687, 1092.3549663754773, 1399.0419126454285, -216.20998065664105, -288.4320279105676, 2884.094132027368, -873.8464942704154, 489.2019259355807, -1913.1753363522462, 475.48135344522296, 540.7727328574828, 273.4775005472465, -432.0743506660881, 221.5260401984046, -115.9701210573369, -288.0568434376312, -131.17372327420176, 718.7173914971597, 317.25515547602066, 1949.4150009679659, 821.8848578075387, -313.46251703007744, -460.6910146540511, -555.2413918267529, 397.869104709923, -1386.1429329421649, -438.1528594502506, 1077.0340666872082, -1237.7180997796077, 1009.1088524359178, 269.0252208283928, 1839.9992626436083, 1714.8045394623555, -485.9928705509061, 1453.2265706819999, -212.83533959630998]], \"op\": \"simsearch_ts\"}'\n"
     ]
    }
   ],
   "source": [
    "import sys\n",
    "from socket import socket, AF_INET, SOCK_STREAM\n",
    "s = socket(AF_INET, SOCK_STREAM)\n",
    "s.connect(('localhost', 20000))\n",
    "s.send(s2)\n",
    "msg = s.recv(8192)\n",
    "print(msg)"
   ]
  },
  {
   "cell_type": "code",
   "execution_count": 35,
   "metadata": {
    "collapsed": false
   },
   "outputs": [],
   "source": [
    "a = b = 0"
   ]
  },
  {
   "cell_type": "code",
   "execution_count": 37,
   "metadata": {
    "collapsed": false
   },
   "outputs": [
    {
     "data": {
      "text/plain": [
       "True"
      ]
     },
     "execution_count": 37,
     "metadata": {},
     "output_type": "execute_result"
    }
   ],
   "source": []
  },
  {
   "cell_type": "code",
   "execution_count": null,
   "metadata": {
    "collapsed": true
   },
   "outputs": [],
   "source": []
  },
  {
   "cell_type": "code",
   "execution_count": 22,
   "metadata": {
    "collapsed": false,
    "scrolled": false
   },
   "outputs": [
    {
     "name": "stdout",
     "output_type": "stream",
     "text": [
      "{'ts': [[0.0, 0.01, 0.02, 0.03, 0.04, 0.05, 0.06, 0.07, 0.08, 0.09, 0.1, 0.11, 0.12, 0.13, 0.14, 0.15, 0.16, 0.17, 0.18, 0.19, 0.2, 0.21, 0.22, 0.23, 0.24, 0.25, 0.26, 0.27, 0.28, 0.29, 0.3, 0.31, 0.32, 0.33, 0.34, 0.35000000000000003, 0.36, 0.37, 0.38, 0.39, 0.4, 0.41000000000000003, 0.42, 0.43, 0.44, 0.45, 0.46, 0.47000000000000003, 0.48, 0.49, 0.5, 0.51, 0.52, 0.53, 0.54, 0.55, 0.56, 0.5700000000000001, 0.58, 0.59, 0.6, 0.61, 0.62, 0.63, 0.64, 0.65, 0.66, 0.67, 0.68, 0.6900000000000001, 0.7000000000000001, 0.71, 0.72, 0.73, 0.74, 0.75, 0.76, 0.77, 0.78, 0.79, 0.8, 0.81, 0.8200000000000001, 0.8300000000000001, 0.84, 0.85, 0.86, 0.87, 0.88, 0.89, 0.9, 0.91, 0.92, 0.93, 0.9400000000000001, 0.9500000000000001, 0.96, 0.97, 0.98, 0.99], [784.047869922633, -1174.9231708464652, -1966.3103681137839, 980.3240258839023, -2005.128793082871, -1718.5167723862435, -1005.7897775823137, 253.83697308070728, -516.9164428747807, -691.8627732917718, -1018.0514446949568, 1207.117057401863, -217.2850431344638, 166.42734615438022, -1005.9346911951684, 1129.5206285149002, 864.7039496143278, 916.5792553876568, 149.76178280164416, -1434.784874814774, -1462.6511282348463, -42.96385252980836, -1832.6524452680328, -966.8274583460005, 63.571229873074095, 22.257484205567142, -1355.9855428758178, 1620.628956221186, -2246.61436984552, 1248.8039001656537, 1276.4617309956027, -263.95277252281136, -380.5008597990493, 223.7502333000687, -2305.4717926764915, 1067.9226395643727, -1497.115445536819, 699.1487675992436, -19.59993914211486, 645.6477268929578, 1866.5892303348244, 721.2608398144066, 174.93570002449007, 768.1326492064247, -2591.96781528898, -1042.6920539912753, 1548.6642163369233, 384.4477254102571, -227.1452801911582, 1150.5533485239778, 554.176223201529, 1332.8195312047856, 431.988057337248, -394.57010715755297, 220.47730433822466, -1541.7371151786365, 149.86900103964203, 1334.8554947187752, -995.3154657252343, -1480.969665323349, 71.87904479271711, 72.31957581398083, -907.8971782847793, -231.58701023714545, 1614.9601910186873, -830.9622218378348, -394.1369866549737, 937.7444329139763, -707.7062294345999, 132.14713375549402, -720.707519125737, -957.7010951418883, -477.3916499427225, -1087.9408780257106, -619.9524776744939, 443.25755952750666, 1069.9157032260036, -246.27291686810904, 460.8055987355616, -100.46430195889127, 10.439997180768854, 842.8879079302458, 258.2900679524329, 989.3759691926422, 119.48571087971942, 1267.2240588282523, 1417.133448135833, 1332.3841758647413, -962.993291558631, 1603.8035684135184, 678.443144189365, 582.5705819463498, -1230.8554700606396, 652.0167653230992, 954.0896249991256, 781.3292058672001, 1244.7657538042718, 570.9256354213856, 218.75640392117978, 161.78403951821448]], 'op': 'simsearch_ts'}\n",
      "[[0.0, 0.01, 0.02, 0.03, 0.04, 0.05, 0.06, 0.07, 0.08, 0.09, 0.1, 0.11, 0.12, 0.13, 0.14, 0.15, 0.16, 0.17, 0.18, 0.19, 0.2, 0.21, 0.22, 0.23, 0.24, 0.25, 0.26, 0.27, 0.28, 0.29, 0.3, 0.31, 0.32, 0.33, 0.34, 0.35000000000000003, 0.36, 0.37, 0.38, 0.39, 0.4, 0.41000000000000003, 0.42, 0.43, 0.44, 0.45, 0.46, 0.47000000000000003, 0.48, 0.49, 0.5, 0.51, 0.52, 0.53, 0.54, 0.55, 0.56, 0.5700000000000001, 0.58, 0.59, 0.6, 0.61, 0.62, 0.63, 0.64, 0.65, 0.66, 0.67, 0.68, 0.6900000000000001, 0.7000000000000001, 0.71, 0.72, 0.73, 0.74, 0.75, 0.76, 0.77, 0.78, 0.79, 0.8, 0.81, 0.8200000000000001, 0.8300000000000001, 0.84, 0.85, 0.86, 0.87, 0.88, 0.89, 0.9, 0.91, 0.92, 0.93, 0.9400000000000001, 0.9500000000000001, 0.96, 0.97, 0.98, 0.99], [784.047869922633, -1174.9231708464652, -1966.3103681137839, 980.3240258839023, -2005.128793082871, -1718.5167723862435, -1005.7897775823137, 253.83697308070728, -516.9164428747807, -691.8627732917718, -1018.0514446949568, 1207.117057401863, -217.2850431344638, 166.42734615438022, -1005.9346911951684, 1129.5206285149002, 864.7039496143278, 916.5792553876568, 149.76178280164416, -1434.784874814774, -1462.6511282348463, -42.96385252980836, -1832.6524452680328, -966.8274583460005, 63.571229873074095, 22.257484205567142, -1355.9855428758178, 1620.628956221186, -2246.61436984552, 1248.8039001656537, 1276.4617309956027, -263.95277252281136, -380.5008597990493, 223.7502333000687, -2305.4717926764915, 1067.9226395643727, -1497.115445536819, 699.1487675992436, -19.59993914211486, 645.6477268929578, 1866.5892303348244, 721.2608398144066, 174.93570002449007, 768.1326492064247, -2591.96781528898, -1042.6920539912753, 1548.6642163369233, 384.4477254102571, -227.1452801911582, 1150.5533485239778, 554.176223201529, 1332.8195312047856, 431.988057337248, -394.57010715755297, 220.47730433822466, -1541.7371151786365, 149.86900103964203, 1334.8554947187752, -995.3154657252343, -1480.969665323349, 71.87904479271711, 72.31957581398083, -907.8971782847793, -231.58701023714545, 1614.9601910186873, -830.9622218378348, -394.1369866549737, 937.7444329139763, -707.7062294345999, 132.14713375549402, -720.707519125737, -957.7010951418883, -477.3916499427225, -1087.9408780257106, -619.9524776744939, 443.25755952750666, 1069.9157032260036, -246.27291686810904, 460.8055987355616, -100.46430195889127, 10.439997180768854, 842.8879079302458, 258.2900679524329, 989.3759691926422, 119.48571087971942, 1267.2240588282523, 1417.133448135833, 1332.3841758647413, -962.993291558631, 1603.8035684135184, 678.443144189365, 582.5705819463498, -1230.8554700606396, 652.0167653230992, 954.0896249991256, 781.3292058672001, 1244.7657538042718, 570.9256354213856, 218.75640392117978, 161.78403951821448]]\n"
     ]
    }
   ],
   "source": [
    "ds = Deserializer()\n",
    "ds.append(msg)\n",
    "ds.ready()\n",
    "response = ds.deserialize()\n",
    "#print(response)\n",
    "if 'ts' in response:\n",
    "    a = response['ts']\n",
    "elif 'id' in response:\n",
    "    a = response['id']\n",
    "print(response)\n",
    "print(a)"
   ]
  },
  {
   "cell_type": "code",
   "execution_count": 28,
   "metadata": {
    "collapsed": false
   },
   "outputs": [
    {
     "data": {
      "text/plain": [
       "'[[0.0, 0.01, 0.02, 0.03, 0.04, 0.05, 0.06, 0.07, 0.08, 0.09, 0.1, 0.11, 0.12, 0.13, 0.14, 0.15, 0.16, 0.17, 0.18, 0.19, 0.2, 0.21, 0.22, 0.23, 0.24, 0.25, 0.26, 0.27, 0.28, 0.29, 0.3, 0.31, 0.32, 0.33, 0.34, 0.35000000000000003, 0.36, 0.37, 0.38, 0.39, 0.4, 0.41000000000000003, 0.42, 0.43, 0.44, 0.45, 0.46, 0.47000000000000003, 0.48, 0.49, 0.5, 0.51, 0.52, 0.53, 0.54, 0.55, 0.56, 0.5700000000000001, 0.58, 0.59, 0.6, 0.61, 0.62, 0.63, 0.64, 0.65, 0.66, 0.67, 0.68, 0.6900000000000001, 0.7000000000000001, 0.71, 0.72, 0.73, 0.74, 0.75, 0.76, 0.77, 0.78, 0.79, 0.8, 0.81, 0.8200000000000001, 0.8300000000000001, 0.84, 0.85, 0.86, 0.87, 0.88, 0.89, 0.9, 0.91, 0.92, 0.93, 0.9400000000000001, 0.9500000000000001, 0.96, 0.97, 0.98, 0.99], [784.047869922633, -1174.9231708464652, -1966.3103681137839, 980.3240258839023, -2005.128793082871, -1718.5167723862435, -1005.7897775823137, 253.83697308070728, -516.9164428747807, -691.8627732917718, -1018.0514446949568, 1207.117057401863, -217.2850431344638, 166.42734615438022, -1005.9346911951684, 1129.5206285149002, 864.7039496143278, 916.5792553876568, 149.76178280164416, -1434.784874814774, -1462.6511282348463, -42.96385252980836, -1832.6524452680328, -966.8274583460005, 63.571229873074095, 22.257484205567142, -1355.9855428758178, 1620.628956221186, -2246.61436984552, 1248.8039001656537, 1276.4617309956027, -263.95277252281136, -380.5008597990493, 223.7502333000687, -2305.4717926764915, 1067.9226395643727, -1497.115445536819, 699.1487675992436, -19.59993914211486, 645.6477268929578, 1866.5892303348244, 721.2608398144066, 174.93570002449007, 768.1326492064247, -2591.96781528898, -1042.6920539912753, 1548.6642163369233, 384.4477254102571, -227.1452801911582, 1150.5533485239778, 554.176223201529, 1332.8195312047856, 431.988057337248, -394.57010715755297, 220.47730433822466, -1541.7371151786365, 149.86900103964203, 1334.8554947187752, -995.3154657252343, -1480.969665323349, 71.87904479271711, 72.31957581398083, -907.8971782847793, -231.58701023714545, 1614.9601910186873, -830.9622218378348, -394.1369866549737, 937.7444329139763, -707.7062294345999, 132.14713375549402, -720.707519125737, -957.7010951418883, -477.3916499427225, -1087.9408780257106, -619.9524776744939, 443.25755952750666, 1069.9157032260036, -246.27291686810904, 460.8055987355616, -100.46430195889127, 10.439997180768854, 842.8879079302458, 258.2900679524329, 989.3759691926422, 119.48571087971942, 1267.2240588282523, 1417.133448135833, 1332.3841758647413, -962.993291558631, 1603.8035684135184, 678.443144189365, 582.5705819463498, -1230.8554700606396, 652.0167653230992, 954.0896249991256, 781.3292058672001, 1244.7657538042718, 570.9256354213856, 218.75640392117978, 161.78403951821448]]'"
      ]
     },
     "execution_count": 28,
     "metadata": {},
     "output_type": "execute_result"
    }
   ],
   "source": [
    "response['ts']"
   ]
  },
  {
   "cell_type": "markdown",
   "metadata": {
    "collapsed": true
   },
   "source": [
    "### Above is the output I'm getting- still need to discuss interpolation and also adding in the parameter for number of timeseries to find"
   ]
  },
  {
   "cell_type": "code",
   "execution_count": 239,
   "metadata": {
    "collapsed": false
   },
   "outputs": [],
   "source": [
    "def dic_fun(**kwargs):\n",
    "    a = {}\n",
    "    for k,v in kwargs.items():\n",
    "        a[k]=v\n",
    "    print(a)"
   ]
  },
  {
   "cell_type": "code",
   "execution_count": 240,
   "metadata": {
    "collapsed": false
   },
   "outputs": [
    {
     "name": "stdout",
     "output_type": "stream",
     "text": [
      "{'b': 17, 'a': 12}\n"
     ]
    }
   ],
   "source": [
    "dic_fun(a=12,b=17)"
   ]
  },
  {
   "cell_type": "code",
   "execution_count": 3,
   "metadata": {
    "collapsed": false
   },
   "outputs": [],
   "source": [
    "import MessageFormatting\n",
    "import importlib\n",
    "importlib.reload(MessageFormatting)\n",
    "from MessageFormatting import *"
   ]
  },
  {
   "cell_type": "code",
   "execution_count": 265,
   "metadata": {
    "collapsed": false
   },
   "outputs": [
    {
     "data": {
      "text/plain": [
       "{'id': 12, 'op': 'TSfromID'}"
      ]
     },
     "execution_count": 265,
     "metadata": {},
     "output_type": "execute_result"
    }
   ],
   "source": [
    "d2 = {'op':'simsearch_ts','ts':[[1,2,3],[4,5,6]],'courtesy':'please'}\n",
    "d2 = {'op':'simsearch_id','id':12,'courtesy':'please','n_closest':12}\n",
    "d2 = {'op':'TSfromID','id':12,'courtesy':'please'}\n",
    "c = TSDBOp.from_json(d2)\n",
    "c"
   ]
  },
  {
   "cell_type": "code",
   "execution_count": null,
   "metadata": {
    "collapsed": true
   },
   "outputs": [],
   "source": []
  },
  {
   "cell_type": "code",
   "execution_count": null,
   "metadata": {
    "collapsed": true
   },
   "outputs": [],
   "source": []
  },
  {
   "cell_type": "code",
   "execution_count": 72,
   "metadata": {
    "collapsed": false
   },
   "outputs": [
    {
     "name": "stdout",
     "output_type": "stream",
     "text": [
      "Invalid JSON object received:\n",
      "success!\n"
     ]
    }
   ],
   "source": [
    "ds = Deserializer()\n",
    "ds.append(msg)\n",
    "ds.deserialize()"
   ]
  },
  {
   "cell_type": "code",
   "execution_count": 69,
   "metadata": {
    "collapsed": false
   },
   "outputs": [
    {
     "data": {
      "text/plain": [
       "b'\\x0c\\x00\\x00\\x00success!'"
      ]
     },
     "execution_count": 69,
     "metadata": {},
     "output_type": "execute_result"
    }
   ],
   "source": [
    "msg"
   ]
  },
  {
   "cell_type": "code",
   "execution_count": 65,
   "metadata": {
    "collapsed": false
   },
   "outputs": [
    {
     "data": {
      "text/plain": [
       "'\"success!\"'"
      ]
     },
     "execution_count": 65,
     "metadata": {},
     "output_type": "execute_result"
    }
   ],
   "source": [
    "json.dumps('success!')"
   ]
  },
  {
   "cell_type": "code",
   "execution_count": 73,
   "metadata": {
    "collapsed": false
   },
   "outputs": [],
   "source": [
    "#json.loads(TSDBOp.to_json('success!'))"
   ]
  },
  {
   "cell_type": "code",
   "execution_count": 4,
   "metadata": {
    "collapsed": false
   },
   "outputs": [],
   "source": [
    "from Similarity.find_most_similar import find_most_similiar"
   ]
  },
  {
   "cell_type": "code",
   "execution_count": 5,
   "metadata": {
    "collapsed": false
   },
   "outputs": [
    {
     "data": {
      "text/plain": [
       "['D:\\\\Dropbox (HNL)\\\\coursework\\\\CS207\\\\project\\\\cs207project\\\\timeseries',\n",
       " 'D:\\\\Dropbox (HNL)\\\\coursework\\\\CS207\\\\project\\\\cs207project/cs207rbtree',\n",
       " 'D:\\\\Dropbox (HNL)\\\\coursework\\\\CS207\\\\project\\\\cs207project\\\\timeseries\\\\Similarity',\n",
       " 'D:\\\\Dropbox (HNL)\\\\coursework\\\\CS207\\\\project\\\\cs207project\\\\timeseries',\n",
       " 'D:\\\\Dropbox (HNL)\\\\coursework\\\\CS207\\\\project\\\\cs207project/cs207rbtree',\n",
       " 'D:\\\\Dropbox (HNL)\\\\coursework\\\\CS207\\\\project\\\\cs207project\\\\timeseries\\\\Similarity',\n",
       " 'D:\\\\Dropbox (HNL)\\\\coursework\\\\CS207\\\\project\\\\cs207project\\\\timeseries',\n",
       " 'D:\\\\Dropbox (HNL)\\\\coursework\\\\CS207\\\\project\\\\cs207project/timeseries',\n",
       " 'D:\\\\Dropbox (HNL)\\\\coursework\\\\CS207\\\\project\\\\cs207project',\n",
       " 'D:\\\\Dropbox (HNL)\\\\coursework\\\\CS207\\\\project\\\\cs207project/timeseries',\n",
       " 'D:\\\\Dropbox (HNL)\\\\coursework\\\\CS207\\\\project\\\\cs207project',\n",
       " '',\n",
       " 'C:\\\\Users\\\\Andrew\\\\Anaconda2\\\\envs\\\\py35\\\\python35.zip',\n",
       " 'C:\\\\Users\\\\Andrew\\\\Anaconda2\\\\envs\\\\py35\\\\DLLs',\n",
       " 'C:\\\\Users\\\\Andrew\\\\Anaconda2\\\\envs\\\\py35\\\\lib',\n",
       " 'C:\\\\Users\\\\Andrew\\\\Anaconda2\\\\envs\\\\py35',\n",
       " 'C:\\\\Users\\\\Andrew\\\\Anaconda2\\\\envs\\\\py35\\\\lib\\\\site-packages',\n",
       " 'C:\\\\Users\\\\Andrew\\\\Anaconda2\\\\envs\\\\py35\\\\lib\\\\site-packages\\\\Sphinx-1.4.1-py3.5.egg',\n",
       " 'C:\\\\Users\\\\Andrew\\\\Anaconda2\\\\envs\\\\py35\\\\lib\\\\site-packages\\\\win32',\n",
       " 'C:\\\\Users\\\\Andrew\\\\Anaconda2\\\\envs\\\\py35\\\\lib\\\\site-packages\\\\win32\\\\lib',\n",
       " 'C:\\\\Users\\\\Andrew\\\\Anaconda2\\\\envs\\\\py35\\\\lib\\\\site-packages\\\\Pythonwin',\n",
       " 'C:\\\\Users\\\\Andrew\\\\Anaconda2\\\\envs\\\\py35\\\\lib\\\\site-packages\\\\setuptools-23.0.0-py3.5.egg',\n",
       " 'C:\\\\Users\\\\Andrew\\\\Anaconda2\\\\envs\\\\py35\\\\lib\\\\site-packages\\\\IPython\\\\extensions',\n",
       " 'C:\\\\Users\\\\Andrew\\\\.ipython']"
      ]
     },
     "execution_count": 5,
     "metadata": {},
     "output_type": "execute_result"
    }
   ],
   "source": [
    "sys.path"
   ]
  },
  {
   "cell_type": "code",
   "execution_count": 28,
   "metadata": {
    "collapsed": false
   },
   "outputs": [
    {
     "data": {
      "text/plain": [
       "'D:\\\\Dropbox (HNL)\\\\coursework\\\\CS207\\\\project\\\\cs207project\\\\TimeseriesDB'"
      ]
     },
     "execution_count": 28,
     "metadata": {},
     "output_type": "execute_result"
    }
   ],
   "source": [
    "os.getcwd()"
   ]
  },
  {
   "cell_type": "code",
   "execution_count": 29,
   "metadata": {
    "collapsed": false
   },
   "outputs": [
    {
     "ename": "NameError",
     "evalue": "name '__file__' is not defined",
     "output_type": "error",
     "traceback": [
      "\u001b[1;31m\u001b[0m",
      "\u001b[1;31mNameError\u001b[0mTraceback (most recent call last)",
      "\u001b[1;32m<ipython-input-29-0e75f935e925>\u001b[0m in \u001b[0;36m<module>\u001b[1;34m()\u001b[0m\n\u001b[1;32m----> 1\u001b[1;33m \u001b[0mos\u001b[0m\u001b[1;33m.\u001b[0m\u001b[0mpath\u001b[0m\u001b[1;33m.\u001b[0m\u001b[0mdirname\u001b[0m\u001b[1;33m(\u001b[0m\u001b[0mos\u001b[0m\u001b[1;33m.\u001b[0m\u001b[0mpath\u001b[0m\u001b[1;33m.\u001b[0m\u001b[0mabspath\u001b[0m\u001b[1;33m(\u001b[0m\u001b[0m__file__\u001b[0m\u001b[1;33m)\u001b[0m\u001b[1;33m)\u001b[0m\u001b[1;33m\u001b[0m\u001b[0m\n\u001b[0m",
      "\u001b[1;31mNameError\u001b[0m: name '__file__' is not defined"
     ]
    }
   ],
   "source": [
    "os.path.dirname(os.path.abspath(__file__))"
   ]
  },
  {
   "cell_type": "code",
   "execution_count": 121,
   "metadata": {
    "collapsed": false
   },
   "outputs": [],
   "source": [
    "from StorageManager import FileStorageManager"
   ]
  },
  {
   "cell_type": "code",
   "execution_count": null,
   "metadata": {
    "collapsed": true
   },
   "outputs": [],
   "source": [
    "sm = File"
   ]
  }
 ],
 "metadata": {
  "anaconda-cloud": {},
  "kernelspec": {
   "display_name": "Python [py35]",
   "language": "python",
   "name": "Python [py35]"
  },
  "language_info": {
   "codemirror_mode": {
    "name": "ipython",
    "version": 3
   },
   "file_extension": ".py",
   "mimetype": "text/x-python",
   "name": "python",
   "nbconvert_exporter": "python",
   "pygments_lexer": "ipython3",
   "version": "3.5.2"
  }
 },
 "nbformat": 4,
 "nbformat_minor": 0
}
